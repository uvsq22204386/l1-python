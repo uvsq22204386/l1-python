{
 "cells": [
  {
   "cell_type": "markdown",
   "metadata": {
    "slideshow": {
     "slide_type": "slide"
    }
   },
   "source": [
    "# Cours 4 : les fonctions en Python"
   ]
  },
  {
   "cell_type": "markdown",
   "metadata": {
    "slideshow": {
     "slide_type": "slide"
    }
   },
   "source": [
    "## 0. Écriture de programme\n",
    "\n",
    "Jusqu'à maintenant on a écrit seulement quelques lignes de Python avec évaluation\n",
    "immédiate de leur effet. Nous allons maintenant écrire des *scripts* ou *programmes*, qui sont plus long et dépendent éventuellement d'arguments fournis au lancement du programme.\n",
    "\n",
    "Pour cela, nous allons utiliser un éditeur de texte (VS Code) et un interpréteur Python (celui qui est lié à VS Code mais qui peut également être appelé depuis le terminal).\n",
    "\n",
    "**Démonstration des outils**"
   ]
  },
  {
   "cell_type": "markdown",
   "metadata": {
    "slideshow": {
     "slide_type": "notes"
    }
   },
   "source": [
    "Ici, faire une démo de l'écriture d'un programme dans VS Code avec exécution du programme.  \n",
    "Puis exécution du même programme avec le shell pour montrer qu'il se passe la même chose."
   ]
  },
  {
   "cell_type": "markdown",
   "metadata": {
    "slideshow": {
     "slide_type": "slide"
    }
   },
   "source": [
    "## 1. Utilité des fonctions en programmation\n",
    "\n",
    "\n",
    "Quand on écrit un code il est très fréquent d'utiliser la même fonctionnalité plusieurs fois. \n",
    "Quand ces fonctionnalités sont très communes, la librairie standard de Python ou des librairies externes vont vous fournir des fonctions déjà codées. Nous avons par exemple vu les fonctions `capitalize`, `random.randint` ou `math.cos`.\n",
    "\n",
    "\n",
    "Par ailleurs les fonctions permettent de découper le code en petites unités compréhensibles et indépendantes, ce qui le rend plus facile à comprendre et analyser.\n"
   ]
  },
  {
   "cell_type": "code",
   "execution_count": 2,
   "metadata": {
    "slideshow": {
     "slide_type": "subslide"
    }
   },
   "outputs": [],
   "source": [
    "#exemple de code pour lequel une fonction est utile car on l'appelle plusieurs fois\n",
    "\n",
    "def chiffre(chaine, cle):\n",
    "    \"\"\" Retourne une chaîne de caractères chiffrée en décalant chaque lettre de chaine par l'entier cle\"\"\" \n",
    "    res = ''\n",
    "    for c in chaine:\n",
    "        res += chr(ord(c) + cle)\n",
    "    return res\n",
    "\n",
    "#rien ne s'affiche à l'exécution: on a définit une fonction mais aucune instruction n'a été exécutée"
   ]
  },
  {
   "cell_type": "code",
   "execution_count": 3,
   "metadata": {
    "slideshow": {
     "slide_type": "fragment"
    }
   },
   "outputs": [
    {
     "name": "stdout",
     "output_type": "stream",
     "text": [
      "Help on built-in function chr in module builtins:\n",
      "\n",
      "chr(i, /)\n",
      "    Return a Unicode string of one character with ordinal i; 0 <= i <= 0x10ffff.\n",
      "\n",
      "Help on built-in function ord in module builtins:\n",
      "\n",
      "ord(c, /)\n",
      "    Return the Unicode code point for a one-character string.\n",
      "\n",
      "Help on function chiffre in module __main__:\n",
      "\n",
      "chiffre(chaine, cle)\n",
      "    Retourne une chaîne de caractères chiffrée en décalant chaque lettre de chaine par l'entier cle\n",
      "\n"
     ]
    }
   ],
   "source": [
    "#pour comprendre ce que font des fonctions inconnus, utiliser help    \n",
    "#cela affiche le docstring de la fonction\n",
    "help(chr)  #transforme un code unicode de caractère en la chaine contenant ce caractère\n",
    "help(ord)  #transforme une chaine contenant un caractère en un code unicode\n",
    "help(chiffre)"
   ]
  },
  {
   "cell_type": "code",
   "execution_count": 4,
   "metadata": {
    "slideshow": {
     "slide_type": "fragment"
    }
   },
   "outputs": [
    {
     "name": "stdout",
     "output_type": "stream",
     "text": [
      "Help on function chiffre in module __main__:\n",
      "\n",
      "chiffre(chaine, cle)\n",
      "    Retourne une chaîne de caractères chiffrée en décalant chaque lettre de chaine par l'entier cle\n",
      "\n"
     ]
    },
    {
     "ename": "KeyboardInterrupt",
     "evalue": "Interrupted by user",
     "output_type": "error",
     "traceback": [
      "\u001b[1;31m---------------------------------------------------------------------------\u001b[0m",
      "\u001b[1;31mKeyboardInterrupt\u001b[0m                         Traceback (most recent call last)",
      "\u001b[1;32md:\\Projets\\l1-python\\cours\\04_fonctions\\04_fonctions.ipynb Cell 7\u001b[0m in \u001b[0;36m<cell line: 2>\u001b[1;34m()\u001b[0m\n\u001b[0;32m      <a href='vscode-notebook-cell:/d%3A/Projets/l1-python/cours/04_fonctions/04_fonctions.ipynb#W6sZmlsZQ%3D%3D?line=0'>1</a>\u001b[0m help(chiffre)\n\u001b[1;32m----> <a href='vscode-notebook-cell:/d%3A/Projets/l1-python/cours/04_fonctions/04_fonctions.ipynb#W6sZmlsZQ%3D%3D?line=1'>2</a>\u001b[0m message_chiffre \u001b[39m=\u001b[39m chiffre(\u001b[39minput\u001b[39;49m(),\u001b[39m1\u001b[39m) \n\u001b[0;32m      <a href='vscode-notebook-cell:/d%3A/Projets/l1-python/cours/04_fonctions/04_fonctions.ipynb#W6sZmlsZQ%3D%3D?line=2'>3</a>\u001b[0m \u001b[39mprint\u001b[39m(message_chiffre)\n\u001b[0;32m      <a href='vscode-notebook-cell:/d%3A/Projets/l1-python/cours/04_fonctions/04_fonctions.ipynb#W6sZmlsZQ%3D%3D?line=3'>4</a>\u001b[0m message_dechiffre \u001b[39m=\u001b[39m chiffre(message_chiffre, \u001b[39m-\u001b[39m\u001b[39m1\u001b[39m)\n",
      "File \u001b[1;32md:\\Python\\envs\\l1-python\\lib\\site-packages\\ipykernel\\kernelbase.py:1177\u001b[0m, in \u001b[0;36mKernel.raw_input\u001b[1;34m(self, prompt)\u001b[0m\n\u001b[0;32m   1173\u001b[0m \u001b[39mif\u001b[39;00m \u001b[39mnot\u001b[39;00m \u001b[39mself\u001b[39m\u001b[39m.\u001b[39m_allow_stdin:\n\u001b[0;32m   1174\u001b[0m     \u001b[39mraise\u001b[39;00m StdinNotImplementedError(\n\u001b[0;32m   1175\u001b[0m         \u001b[39m\"\u001b[39m\u001b[39mraw_input was called, but this frontend does not support input requests.\u001b[39m\u001b[39m\"\u001b[39m\n\u001b[0;32m   1176\u001b[0m     )\n\u001b[1;32m-> 1177\u001b[0m \u001b[39mreturn\u001b[39;00m \u001b[39mself\u001b[39;49m\u001b[39m.\u001b[39;49m_input_request(\n\u001b[0;32m   1178\u001b[0m     \u001b[39mstr\u001b[39;49m(prompt),\n\u001b[0;32m   1179\u001b[0m     \u001b[39mself\u001b[39;49m\u001b[39m.\u001b[39;49m_parent_ident[\u001b[39m\"\u001b[39;49m\u001b[39mshell\u001b[39;49m\u001b[39m\"\u001b[39;49m],\n\u001b[0;32m   1180\u001b[0m     \u001b[39mself\u001b[39;49m\u001b[39m.\u001b[39;49mget_parent(\u001b[39m\"\u001b[39;49m\u001b[39mshell\u001b[39;49m\u001b[39m\"\u001b[39;49m),\n\u001b[0;32m   1181\u001b[0m     password\u001b[39m=\u001b[39;49m\u001b[39mFalse\u001b[39;49;00m,\n\u001b[0;32m   1182\u001b[0m )\n",
      "File \u001b[1;32md:\\Python\\envs\\l1-python\\lib\\site-packages\\ipykernel\\kernelbase.py:1219\u001b[0m, in \u001b[0;36mKernel._input_request\u001b[1;34m(self, prompt, ident, parent, password)\u001b[0m\n\u001b[0;32m   1216\u001b[0m             \u001b[39mbreak\u001b[39;00m\n\u001b[0;32m   1217\u001b[0m \u001b[39mexcept\u001b[39;00m \u001b[39mKeyboardInterrupt\u001b[39;00m:\n\u001b[0;32m   1218\u001b[0m     \u001b[39m# re-raise KeyboardInterrupt, to truncate traceback\u001b[39;00m\n\u001b[1;32m-> 1219\u001b[0m     \u001b[39mraise\u001b[39;00m \u001b[39mKeyboardInterrupt\u001b[39;00m(\u001b[39m\"\u001b[39m\u001b[39mInterrupted by user\u001b[39m\u001b[39m\"\u001b[39m) \u001b[39mfrom\u001b[39;00m \u001b[39mNone\u001b[39m\n\u001b[0;32m   1220\u001b[0m \u001b[39mexcept\u001b[39;00m \u001b[39mException\u001b[39;00m:\n\u001b[0;32m   1221\u001b[0m     \u001b[39mself\u001b[39m\u001b[39m.\u001b[39mlog\u001b[39m.\u001b[39mwarning(\u001b[39m\"\u001b[39m\u001b[39mInvalid Message:\u001b[39m\u001b[39m\"\u001b[39m, exc_info\u001b[39m=\u001b[39m\u001b[39mTrue\u001b[39;00m)\n",
      "\u001b[1;31mKeyboardInterrupt\u001b[0m: Interrupted by user"
     ]
    }
   ],
   "source": [
    "help(chiffre)\n",
    "message_chiffre = chiffre(input(),1) \n",
    "print(message_chiffre)\n",
    "message_dechiffre = chiffre(message_chiffre, -1)\n",
    "print(message_dechiffre)"
   ]
  },
  {
   "cell_type": "markdown",
   "metadata": {
    "slideshow": {
     "slide_type": "subslide"
    }
   },
   "source": [
    "En mathématique une fonction s'écrit f: x $\\rightarrow$ f(x).\n",
    "Il y a trois parties dans la fonction: f son *nom*, x son *argument* et \n",
    "*f(x)* son image (valeur/résultat).\n",
    "\n",
    "Quelques exemples que vous connaissez bien:\n",
    "* $f(x) = ax + b$\n",
    "* $f(x) = x^2$\n",
    "* $f(x) = 2^x$\n",
    "* $f(x) = |x|$\n",
    "* $f(x,y) = x + y$\n",
    "\n",
    "\n",
    "C'est la même chose quand on programme, une fonction associe à un argument\n",
    "un résultat. L'argument et le résultat peuvent être arbitrairement complexes (des tuples ou des fonctions par exemple)."
   ]
  },
  {
   "cell_type": "markdown",
   "metadata": {
    "slideshow": {
     "slide_type": "notes"
    }
   },
   "source": [
    "On peut donner des exemples de fonction dans d'autres cadres qui ne sont pas des mathématiques.\n",
    "Par exemple en cuisine, on peut définir les fonctions couper(aliment), mélanger(aliment1, aliment2) et cuire(aliment), trois fonctions bien utiles pour écrire une recette (= programme)."
   ]
  },
  {
   "cell_type": "markdown",
   "metadata": {
    "slideshow": {
     "slide_type": "slide"
    }
   },
   "source": [
    "## 2. Définir une fonction en Python\n",
    "---\n",
    "Syntaxe de déclaration d'une fonction (signature de la fonction):\n",
    "\n",
    "* Une fonction est introduite grâce au mot clé `def`\n",
    "* On indique ensuite son nom\n",
    "* On donne sa liste d'arguments entre parenthèses\n",
    "* On termine la ligne par `:`\n",
    "\n",
    "\n",
    "Notez que le type des arguments n'est pas précisé, contrairement à la plupart des langages\n",
    "de programmation. On peut donner une fonction comme argument à une autre fonction.\n"
   ]
  },
  {
   "cell_type": "code",
   "execution_count": null,
   "metadata": {
    "slideshow": {
     "slide_type": "fragment"
    }
   },
   "outputs": [],
   "source": [
    "def multiplie(x,y):\n",
    "    pass    #instruction qui ne fait rien"
   ]
  },
  {
   "cell_type": "markdown",
   "metadata": {
    "slideshow": {
     "slide_type": "notes"
    }
   },
   "source": [
    "Tester le code précédent avec ou sans `pass`. Il faut que le corps de la fonction soit non-vide.\n",
    "On peut voir que `pass` ne fait rien. "
   ]
  },
  {
   "cell_type": "markdown",
   "metadata": {
    "slideshow": {
     "slide_type": "subslide"
    }
   },
   "source": [
    "Le corps de la fonction est un bloc de code *indenté*, qui vient après sa déclaration. \n",
    "Il peut être précédé d'un commentaire, appelé **docstring** qui sert à générer la documentation automatique de `help()`. Un docstring est entouré de trois guillemets: `\"\"\" docstring \"\"\"`."
   ]
  },
  {
   "cell_type": "code",
   "execution_count": null,
   "metadata": {
    "slideshow": {
     "slide_type": "fragment"
    }
   },
   "outputs": [],
   "source": [
    "def multiplie(x):\n",
    "    \"\"\" Cette fonction multiplie son argument par 2 et l'affiche\"\"\"\n",
    "    print(x*2)\n",
    "\n",
    "help(multiplie)\n",
    "multiplie(7)\n",
    "multiplie(\"aaa\")"
   ]
  },
  {
   "cell_type": "code",
   "execution_count": 5,
   "metadata": {
    "slideshow": {
     "slide_type": "subslide"
    }
   },
   "outputs": [
    {
     "ename": "NameError",
     "evalue": "name 'x' is not defined",
     "output_type": "error",
     "traceback": [
      "\u001b[1;31m---------------------------------------------------------------------------\u001b[0m",
      "\u001b[1;31mNameError\u001b[0m                                 Traceback (most recent call last)",
      "\u001b[1;32md:\\Projets\\l1-python\\cours\\04_fonctions\\04_fonctions.ipynb Cell 15\u001b[0m in \u001b[0;36m<cell line: 7>\u001b[1;34m()\u001b[0m\n\u001b[0;32m      <a href='vscode-notebook-cell:/d%3A/Projets/l1-python/cours/04_fonctions/04_fonctions.ipynb#X20sZmlsZQ%3D%3D?line=3'>4</a>\u001b[0m     z \u001b[39m=\u001b[39m \u001b[39m2\u001b[39m\n\u001b[0;32m      <a href='vscode-notebook-cell:/d%3A/Projets/l1-python/cours/04_fonctions/04_fonctions.ipynb#X20sZmlsZQ%3D%3D?line=5'>6</a>\u001b[0m incremente(\u001b[39m2\u001b[39m)\n\u001b[1;32m----> <a href='vscode-notebook-cell:/d%3A/Projets/l1-python/cours/04_fonctions/04_fonctions.ipynb#X20sZmlsZQ%3D%3D?line=6'>7</a>\u001b[0m \u001b[39mprint\u001b[39m(x)\n",
      "\u001b[1;31mNameError\u001b[0m: name 'x' is not defined"
     ]
    }
   ],
   "source": [
    "#Que fait ce code si on l'exécute ?\n",
    "def incremente(x):\n",
    "    x +=  1\n",
    "    z = 2\n",
    "\n",
    "incremente(2)\n",
    "print(x)\n",
    "#print(z)\n"
   ]
  },
  {
   "cell_type": "markdown",
   "metadata": {
    "slideshow": {
     "slide_type": "fragment"
    }
   },
   "source": [
    "Les variables définies dans une fonction sont appelées **variables locales**. \n",
    "\n",
    "La portée d'une variable locale est limitée à la fonction où elle a été définie, \n",
    "on ne peut pas y faire référence en dehors."
   ]
  },
  {
   "cell_type": "markdown",
   "metadata": {
    "slideshow": {
     "slide_type": "subslide"
    }
   },
   "source": [
    "Les fonctions retournent une **valeur**, celle donnée après le mot clé `return`.\n",
    "Même les fonctions qui n'ont pas d'instruction return, ou qui terminent en finissant d'exécuter le bloc de code\n",
    "sans atteindre un return, retournent la valeur `None`.\n"
   ]
  },
  {
   "cell_type": "code",
   "execution_count": 6,
   "metadata": {
    "slideshow": {
     "slide_type": "fragment"
    }
   },
   "outputs": [
    {
     "name": "stdout",
     "output_type": "stream",
     "text": [
      "<class 'int'> 1\n",
      "<class 'NoneType'> None\n"
     ]
    }
   ],
   "source": [
    "def avec_retour(x):\n",
    "    return x + 1\n",
    "\n",
    "def sans_retour(x):\n",
    "    x = x + 1\n",
    "    \n",
    "print(type(avec_retour(0)),avec_retour(0))\n",
    "print(type(sans_retour(0)),sans_retour(0))\n"
   ]
  },
  {
   "cell_type": "markdown",
   "metadata": {
    "slideshow": {
     "slide_type": "subslide"
    }
   },
   "source": [
    "**Attention**, une fonction termine dès qu'elle atteint le mot clé `return`.\n",
    "C'est utile pour gérer le flot d'exécution d'une fonction."
   ]
  },
  {
   "cell_type": "code",
   "execution_count": null,
   "metadata": {
    "slideshow": {
     "slide_type": "fragment"
    }
   },
   "outputs": [],
   "source": [
    "def un():\n",
    "    return 1\n",
    "    print(\"je ne serai jamais atteint\")\n",
    "    \n",
    "    \n",
    "un()\n",
    "\n",
    "def cherche(x,l):\n",
    "    for elem in l:\n",
    "        1 / elem #erreur quand elem vaut 0\n",
    "        if(x == elem):\n",
    "            return 1\n",
    "    return 0\n",
    "\n",
    "cherche(10, [1,10,0]) #la valeur 0 n'est pas atteinte car on trouve 10 avant\n"
   ]
  },
  {
   "cell_type": "markdown",
   "metadata": {
    "slideshow": {
     "slide_type": "subslide"
    }
   },
   "source": [
    "En Python, on peut utiliser des types de retour complexes (contrairement à C par exemple).\n",
    "\n",
    "On peut par exemple renvoyer des tuples de valeurs, ce qui est souvent pratique."
   ]
  },
  {
   "cell_type": "code",
   "execution_count": null,
   "metadata": {
    "slideshow": {
     "slide_type": "fragment"
    }
   },
   "outputs": [],
   "source": [
    "def ordonne(a, b):\n",
    "    if a < b:\n",
    "        return a, b\n",
    "    else:\n",
    "        return b, a\n",
    "    \n",
    "print(ordonne(10, 5))"
   ]
  },
  {
   "cell_type": "markdown",
   "metadata": {
    "slideshow": {
     "slide_type": "slide"
    }
   },
   "source": [
    "## 3. Évaluation d'une fonction\n",
    "\n",
    "* les arguments sont des variables locales à la fonction\n",
    "* les arguments sont passés par la copie d'une référence sur l'objet donné en argument\n",
    "* le corps de la fonction est évalué comme un code normal et la fonction se termine soit à la fin du bloc de code indenté, soit quand une instruction `return` est atteinte\n",
    "* la fonction peut appeler une autre fonction ou elle-même (récursivité)\n"
   ]
  },
  {
   "cell_type": "markdown",
   "metadata": {
    "slideshow": {
     "slide_type": "subslide"
    }
   },
   "source": [
    "On va illustrer l'appel de fonction en en exécutant un pas à pas grâce à:\n",
    "\n",
    "* [PythonTutor](http://pythontutor.com/visualize.html#mode=edit)\n",
    "* le debugger dans VS Code"
   ]
  },
  {
   "cell_type": "code",
   "execution_count": 7,
   "metadata": {
    "slideshow": {
     "slide_type": "subslide"
    }
   },
   "outputs": [
    {
     "name": "stdout",
     "output_type": "stream",
     "text": [
      "0\n"
     ]
    }
   ],
   "source": [
    "#Évaluation, exécuté avec PythonTutor\n",
    "#Cas d'un objet immutable\n",
    "\n",
    "def incremente(x):\n",
    "    x += 1\n",
    "    \n",
    "y = 0\n",
    "incremente(y)\n",
    "print(y)\n"
   ]
  },
  {
   "cell_type": "code",
   "execution_count": 8,
   "metadata": {
    "slideshow": {
     "slide_type": "fragment"
    }
   },
   "outputs": [
    {
     "name": "stdout",
     "output_type": "stream",
     "text": [
      "[4, 5, 6]\n"
     ]
    }
   ],
   "source": [
    "# Référence sur une liste, on peut modifier son contenu (objet mutable)  \n",
    "def incrementeListe(l):\n",
    "    for i in range(len(l)):\n",
    "        l[i] += 1\n",
    "\n",
    "l = [3,4,5]\n",
    "incrementeListe(l)\n",
    "print(l)"
   ]
  },
  {
   "cell_type": "code",
   "execution_count": 9,
   "metadata": {
    "slideshow": {
     "slide_type": "fragment"
    }
   },
   "outputs": [
    {
     "name": "stdout",
     "output_type": "stream",
     "text": [
      "[3, 4, 5]\n"
     ]
    }
   ],
   "source": [
    "# Référence sur une liste, on ne peut pas modifier la liste elle même\n",
    "def supprimeListe(l):\n",
    "    l = []\n",
    "\n",
    "l = [3,4,5]\n",
    "supprimeListe(l)\n",
    "print(l)"
   ]
  },
  {
   "cell_type": "markdown",
   "metadata": {
    "slideshow": {
     "slide_type": "subslide"
    }
   },
   "source": [
    "Les variables définies hors des fonctions sont **globales** par opposition aux variables **locales** des fonctions. On peut les utiliser dans toutes les fonctions *sauf si elles ont été redéfinies localement*. \n",
    "\n",
    "Par contre on ne peut pas changer leur valeur à l'intérieur d'une fonction, sauf à spécifier dans la fonction\n",
    "que la variable est globale par le mot clé `global`.\n",
    " \n",
    "Il est *déconseillé* de faire usage de ce mot clé et des variables globales en général."
   ]
  },
  {
   "cell_type": "code",
   "execution_count": null,
   "metadata": {
    "slideshow": {
     "slide_type": "fragment"
    }
   },
   "outputs": [],
   "source": [
    "x = 1\n",
    "print(x)\n",
    "\n",
    "def affiche(): #utilisation d'une variable globale\n",
    "    print(x)\n",
    "    \n",
    "x += 3\n",
    "affiche()\n",
    "\n",
    "def ajoute(): #modification d'une variable globale\n",
    "    x += 1\n",
    "\n",
    "def multiplie():  #modification d'une variable globale en précisant qu'elle est globale dans le code\n",
    "    global x\n",
    "    x *= 2\n",
    "    \n",
    "ajoute()\n",
    "print(x)\n",
    "multiplie()\n",
    "print(x)"
   ]
  },
  {
   "cell_type": "markdown",
   "metadata": {
    "slideshow": {
     "slide_type": "slide"
    }
   },
   "source": [
    "## 4. Représentation des arguments dans un appel de fonction\n",
    "\n",
    "On peut donner des valeurs par défaut aux arguments d'une fonction\n",
    "de la manière suivante `def ma_fonction(pays, age = 1, nom = \"toto\")`.\n",
    "\n",
    "Les variables ayant une valeur par défaut peuvent être omises.\n",
    "\n"
   ]
  },
  {
   "cell_type": "code",
   "execution_count": 5,
   "metadata": {
    "slideshow": {
     "slide_type": "fragment"
    }
   },
   "outputs": [
    {
     "name": "stdout",
     "output_type": "stream",
     "text": [
      "toto  a  1 ans et vit en  france\n",
      "kurt  a  18 ans et vit en  allemagne\n",
      "toto  a  77 ans et vit en  italie\n"
     ]
    }
   ],
   "source": [
    "def ma_fonction(pays, age = 1, nom = \"toto\"):\n",
    "    print(nom,\" a \", age, \"ans et vit en \", pays)\n",
    "    \n",
    "ma_fonction(\"france\")\n",
    "ma_fonction(\"allemagne\", 18, \"kurt\")\n",
    "ma_fonction(\"italie\", 77)"
   ]
  },
  {
   "cell_type": "markdown",
   "metadata": {
    "slideshow": {
     "slide_type": "subslide"
    }
   },
   "source": [
    "On peut également donner les arguments dans le désordre en spécifiant leur nom."
   ]
  },
  {
   "cell_type": "code",
   "execution_count": 4,
   "metadata": {
    "slideshow": {
     "slide_type": "fragment"
    }
   },
   "outputs": [
    {
     "name": "stdout",
     "output_type": "stream",
     "text": [
      "kader  a  18 ans et vit en  algérie\n",
      "sylvie  a  1 ans et vit en  france\n"
     ]
    }
   ],
   "source": [
    "ma_fonction(nom = \"kader\", age = 18, pays = \"algérie\")\n",
    "ma_fonction(\"france\", nom = \"sylvie\")"
   ]
  },
  {
   "cell_type": "markdown",
   "metadata": {
    "slideshow": {
     "slide_type": "notes"
    }
   },
   "source": [
    "Il est possible d'utiliser une liste d'arguments de taille variable. Néanmoins,\n",
    "ce sujet plus avancé et optionnel ne sera pas abordé en première année. \n"
   ]
  },
  {
   "cell_type": "markdown",
   "metadata": {
    "slideshow": {
     "slide_type": "slide"
    }
   },
   "source": [
    "## 5. Fonctions anonymes: lambda expressions\n",
    "\n",
    "\n",
    "Pour définir une fonction courte, il existe une syntaxe alternative utilisant l'opérateur **lambda**.\n"
   ]
  },
  {
   "cell_type": "code",
   "execution_count": 6,
   "metadata": {
    "slideshow": {
     "slide_type": "fragment"
    }
   },
   "outputs": [
    {
     "name": "stdout",
     "output_type": "stream",
     "text": [
      "4\n"
     ]
    }
   ],
   "source": [
    "g = lambda x: x*2  \n",
    "print(g(2))\n",
    "\n",
    "#Attention la définition doit tenir sur une ligne. On ne peut pas utiliser des instructions de contrôle\n",
    "#dans la définition de la fonction.\n",
    "\n",
    "#h = lambda x: if x > 0:\n",
    "#                  return 1\n",
    "#              else:\n",
    "#                  return -1"
   ]
  },
  {
   "cell_type": "markdown",
   "metadata": {
    "slideshow": {
     "slide_type": "subslide"
    }
   },
   "source": [
    "La fonction définie par un lambda est *anonyme*, c'est à dire qu'elle n'a pas de nom.\n",
    "C'est utile quand la fonction sert une seule fois, par exemple comme argument d'une autre fonction."
   ]
  },
  {
   "cell_type": "code",
   "execution_count": 10,
   "metadata": {
    "slideshow": {
     "slide_type": "fragment"
    }
   },
   "outputs": [
    {
     "name": "stdout",
     "output_type": "stream",
     "text": [
      "6\n"
     ]
    },
    {
     "data": {
      "text/plain": [
       "[0, 2, 4, 6, 8, 10, 12, 14, 16, 18]"
      ]
     },
     "execution_count": 10,
     "metadata": {},
     "output_type": "execute_result"
    }
   ],
   "source": [
    "\n",
    "print((lambda x: x*2)(3))\n",
    "\n",
    "list(map(lambda x: x*2,range(10)))#applique la fonction à chaque élément de range(10)\n"
   ]
  },
  {
   "cell_type": "code",
   "execution_count": 12,
   "metadata": {},
   "outputs": [
    {
     "name": "stdout",
     "output_type": "stream",
     "text": [
      "Help on class map in module builtins:\n",
      "\n",
      "class map(object)\n",
      " |  map(func, *iterables) --> map object\n",
      " |  \n",
      " |  Make an iterator that computes the function using arguments from\n",
      " |  each of the iterables.  Stops when the shortest iterable is exhausted.\n",
      " |  \n",
      " |  Methods defined here:\n",
      " |  \n",
      " |  __getattribute__(self, name, /)\n",
      " |      Return getattr(self, name).\n",
      " |  \n",
      " |  __iter__(self, /)\n",
      " |      Implement iter(self).\n",
      " |  \n",
      " |  __next__(self, /)\n",
      " |      Implement next(self).\n",
      " |  \n",
      " |  __reduce__(...)\n",
      " |      Return state information for pickling.\n",
      " |  \n",
      " |  ----------------------------------------------------------------------\n",
      " |  Static methods defined here:\n",
      " |  \n",
      " |  __new__(*args, **kwargs) from builtins.type\n",
      " |      Create and return a new object.  See help(type) for accurate signature.\n",
      "\n"
     ]
    }
   ],
   "source": [
    "help(map)"
   ]
  }
 ],
 "metadata": {
  "celltoolbar": "Diaporama",
  "kernelspec": {
   "display_name": "Python 3.10.4 ('l1-python')",
   "language": "python",
   "name": "python3"
  },
  "language_info": {
   "codemirror_mode": {
    "name": "ipython",
    "version": 3
   },
   "file_extension": ".py",
   "mimetype": "text/x-python",
   "name": "python",
   "nbconvert_exporter": "python",
   "pygments_lexer": "ipython3",
   "version": "3.10.4 | packaged by conda-forge | (main, Mar 30 2022, 08:38:02) [MSC v.1916 64 bit (AMD64)]"
  },
  "vscode": {
   "interpreter": {
    "hash": "014cb9d83026b9c50ea03e62b7bea9f0f1470472ea64b2b9be2b3cd5079cb509"
   }
  }
 },
 "nbformat": 4,
 "nbformat_minor": 1
}
