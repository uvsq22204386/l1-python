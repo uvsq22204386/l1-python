{
 "cells": [
  {
   "cell_type": "markdown",
   "metadata": {
    "slideshow": {
     "slide_type": "slide"
    }
   },
   "source": [
    "# Les structures itératives"
   ]
  },
  {
   "cell_type": "markdown",
   "metadata": {
    "slideshow": {
     "slide_type": "slide"
    }
   },
   "source": [
    "---\n",
    "## Structures itératives\n",
    "\n",
    "Une structure itérative (ou une boucle) est une **structure de contrôle** qui **répète** certaines lignes de code **jusqu'à ce qu'une condition déterminée soit satisfaite**.\n",
    "\n",
    "*Exemple :* On veut afficher *Programming is fun!* 100 fois.  Comment doit-on procéder ? \n",
    "    \n",
    "**!!** Il serait fastidieux de taper l'instruction 100 fois :\n",
    "    $$ \\mbox{100 fois :}    \\left\\{\n",
    "    \\begin{array}{l}\n",
    "        \\mbox{print(\"Programmer c est cool!\")}\\\\\n",
    "        \\mbox{print(\"Programmer c est cool!\")}\\\\\n",
    "        \\mbox{...}\\\\\n",
    "        \\mbox{print(\"Programmer c est cool!\")}\\\\\n",
    "    \\end{array}\n",
    "\\right.$$\n",
    "\n",
    "Alors, comment résoudre ce problème ?\n",
    "        \n",
    "**$\\rightarrow$** Il suffit d'écrire un code en utilisant les boucles qui permet de répéter l'instruction d'affichage 100 fois. "
   ]
  },
  {
   "cell_type": "markdown",
   "metadata": {
    "slideshow": {
     "slide_type": "slide"
    }
   },
   "source": [
    "**Notez bien :**\n",
    "    \n",
    "* La notion d'itération est utilisée quand on doit exécuter le même traitement un certain nombre de fois de manière connue à l'avance ou non. \n",
    "\n",
    "* L'arrêt de l'itération est déclenché par une condition sur l’état des variables dans le script."
   ]
  },
  {
   "cell_type": "markdown",
   "metadata": {
    "slideshow": {
     "slide_type": "slide"
    }
   },
   "source": [
    "Deux formes de structures itératives : \n",
    "- **for**\n",
    "- **while** "
   ]
  },
  {
   "cell_type": "markdown",
   "metadata": {
    "slideshow": {
     "slide_type": "slide"
    }
   },
   "source": [
    "### La boucle for  \n",
    "\n",
    "La boucle for est une structure itérative qui permet d'exécuter un bloc de code un **nombre prédéterminé** de fois.\n",
    "\n",
    "**Syntaxe :**\n",
    "    \n",
    "**for** *nom_variable* **in** **range(*valeur_initiale, valeur_de_fin*)** **:**  \n",
    "&nbsp;&nbsp; *action 1*     \n",
    "&nbsp;&nbsp; *action 2*  \n",
    "&nbsp;&nbsp; *...*  \n",
    "&nbsp;&nbsp; *action n*\n",
    "\n",
    "1. Mot clé **for**, suivi d'un espace  \n",
    "2. La **variable de contrôle** (*nom_variable*) qui est utilisée pour vérifier si la boucle doit continuer à s'exécuter ou non.\n",
    "3. Mot clé **in**, suivi d'un espace  \n",
    "4. Mot clé **range(...)** qui représente une séquence d'éléments de données, commençant par une valeur initiale ***valeur_initiale*** et se terminant par ***valeur_de_fin***. La variable de contrôle prend les valeurs définies par **range(*valeur_initiale, valeur_de_fin*)**.\n",
    "5. Nous terminons la ligne par un **deux-points (:)** \n",
    "6. Une ou plusieurs actions **indentées** qui seront exécutées d'une manière itérative. Les instructions dans le corps de la boucle sont exécutées une fois pour chaque valeur de la variable de contrôle."
   ]
  },
  {
   "cell_type": "markdown",
   "metadata": {
    "slideshow": {
     "slide_type": "slide"
    }
   },
   "source": [
    "**Attention !!** \n",
    "\n",
    "La fonction **range(*valeur_initiale, valeur_de_fin*)** **retourne** les valeurs suivantes :  \n",
    "* *valeur_initiale*\n",
    "* *valeur_initiale + 1* \n",
    "* *valeur_initiale + 2*\n",
    "* *...*\n",
    "* *valeur_de_fin - 2*\n",
    "* *valeur_de_fin - 1*"
   ]
  },
  {
   "cell_type": "markdown",
   "metadata": {
    "slideshow": {
     "slide_type": "slide"
    }
   },
   "source": [
    "Exemple : Nous voulons écrire une boucle qui permet d'afficher les nombres de 1 à 10. Comment pouvons-nous faire cela ?"
   ]
  },
  {
   "cell_type": "code",
   "execution_count": null,
   "metadata": {
    "slideshow": {
     "slide_type": "fragment"
    }
   },
   "outputs": [],
   "source": [
    "print(\"Afficher les valeurs dans l'intervalle:\")\n",
    "for i in range(1, 11) :\n",
    "    print(\"i =\", i)\n",
    "print(\"Terminé\")"
   ]
  },
  {
   "cell_type": "markdown",
   "metadata": {
    "slideshow": {
     "slide_type": "fragment"
    }
   },
   "source": [
    "* Variable de contrôle : *i*\n",
    "* Première valeur de *i* : 1\n",
    "* La boucle vérifie si la valeur de *i* est égale au deuxième paramètre de la fonction **range()** (*valeur_de_fin* = 11).\n",
    "* Si *i*  ne vaut pas 11, alors les instructions indentées s'exécutent \n",
    "* *i* s'incrémente automatiquement de 1 à chaque exécution de la boucle (à chaque itération)\n",
    "* La boucle s'arrête lorsque *i* est égale à 11. "
   ]
  },
  {
   "cell_type": "markdown",
   "metadata": {
    "slideshow": {
     "slide_type": "slide"
    }
   },
   "source": [
    "**!! Deux autres variantes existent pour la fonction *range()* :**\n",
    "* **range(*valeur_de_fin*)**  \n",
    "* **range (*valeur_initiale, valeur_de_fin, increment*)**\n",
    "\n",
    "**Attention :**\n",
    "    \n",
    "Les valeurs de la fonction **range()** doivent être de type **entier**.  \n",
    "Par exemple, *range(1.5, 8.5)*, *range(8.5)*, or *range(1.5, 8.5, 1)* sont des appels de fonction incorrects."
   ]
  },
  {
   "cell_type": "markdown",
   "metadata": {
    "slideshow": {
     "slide_type": "slide"
    }
   },
   "source": [
    "La fonction **range(*valeur_de_fin*)** est équivalente à la fonction **range(*0, valeur_de_fin*)**.\n",
    "\n",
    "Exemple :"
   ]
  },
  {
   "cell_type": "code",
   "execution_count": 1,
   "metadata": {
    "slideshow": {
     "slide_type": "fragment"
    }
   },
   "outputs": [
    {
     "name": "stdout",
     "output_type": "stream",
     "text": [
      "Afficher les valeurs dans l intervalle:\n",
      "i = 0\n",
      "i = 1\n",
      "i = 2\n",
      "i = 3\n",
      "i = 4\n",
      "i = 5\n",
      "i = 6\n",
      "i = 7\n",
      "i = 8\n",
      "i = 9\n",
      "i = 10\n",
      "Terminé\n"
     ]
    }
   ],
   "source": [
    "print('Afficher les valeurs dans l intervalle:')\n",
    "for i in range(11) :\n",
    "    print(\"i =\", i)\n",
    "print(\"Terminé\")"
   ]
  },
  {
   "cell_type": "markdown",
   "metadata": {
    "slideshow": {
     "slide_type": "slide"
    }
   },
   "source": [
    "Le paramètre *increment* dans la fonction **range(*valeur_initiale, valeur_de_fin, increment*)** est utilisé comme *pas d'avancement*. Il est facultatif, s'il est omis, le pas sera pris par défaut égal à 1.\n",
    "\n",
    "Exemples : "
   ]
  },
  {
   "cell_type": "code",
   "execution_count": null,
   "metadata": {
    "slideshow": {
     "slide_type": "fragment"
    }
   },
   "outputs": [],
   "source": [
    "print('Afficher les valeurs dans l intervalle:')\n",
    "for i in range(3, 9, 2) :\n",
    "    print(\"i =\", i)\n",
    "print(\"Terminé\")"
   ]
  },
  {
   "cell_type": "code",
   "execution_count": null,
   "metadata": {
    "slideshow": {
     "slide_type": "fragment"
    }
   },
   "outputs": [],
   "source": [
    "print('Afficher les valeurs dans l intervalle:')\n",
    "for i in range(4, 1, -1) :\n",
    "    print(\"i =\", i)\n",
    "print(\"Terminé\")\n",
    "help(range)"
   ]
  },
  {
   "cell_type": "markdown",
   "metadata": {
    "slideshow": {
     "slide_type": "slide"
    }
   },
   "source": [
    "Exécutons maintenant le code suivant. Que constatez-vous ?"
   ]
  },
  {
   "cell_type": "code",
   "execution_count": null,
   "metadata": {
    "slideshow": {
     "slide_type": "fragment"
    }
   },
   "outputs": [],
   "source": [
    "for i in range(1, 11, 3) :\n",
    "    print(\"Avant addition i =\", i)\n",
    "    i += 1\n",
    "    print(\"Après addition i =\", i)\n",
    "print(\"Dernière valeur, i =\", i)\n",
    "print(\"Terminé\")"
   ]
  },
  {
   "cell_type": "markdown",
   "metadata": {
    "slideshow": {
     "slide_type": "fragment"
    }
   },
   "source": [
    "**!! Le contenu de la boucle ne peut pas contrôler la boucle elle-même.**\n",
    "\n",
    "En modifiant la valeur de *i* dans le corps de la boucle, la valeur modifiée sera utilisée pour le reste de cette itération. Cependant, lorsque cette itération se termine, la valeur précédente de *i* est restaurée. "
   ]
  },
  {
   "cell_type": "markdown",
   "metadata": {
    "slideshow": {
     "slide_type": "slide"
    }
   },
   "source": [
    "Autre exemple : \n",
    "    \n",
    "On veut écrire un programme qui permet de calculer la somme de 1 à *n* où *n* est un nombre saisi par l'utilisateur. "
   ]
  },
  {
   "cell_type": "code",
   "execution_count": null,
   "metadata": {
    "slideshow": {
     "slide_type": "fragment"
    }
   },
   "outputs": [],
   "source": [
    "n = int(input(\"Entrez un nombre :\"))\n",
    "result = 0\n",
    "for i in range(1, n + 1):\n",
    "    result += i\n",
    "print(\"La somme vaut :\", result)"
   ]
  },
  {
   "cell_type": "markdown",
   "metadata": {
    "slideshow": {
     "slide_type": "slide"
    }
   },
   "source": [
    "### La boucle *for* : autres variantes\n",
    "\n",
    "Exemple : "
   ]
  },
  {
   "cell_type": "code",
   "execution_count": 1,
   "metadata": {
    "slideshow": {
     "slide_type": "fragment"
    }
   },
   "outputs": [
    {
     "name": "stdout",
     "output_type": "stream",
     "text": [
      "La moyenne de [23, 43, 56, 22, 109, 34] vaut 47.833333333333336\n"
     ]
    }
   ],
   "source": [
    "liste_de_nombres = [23, 43, 56, 22, 109, 34]\n",
    "sum = 0\n",
    "\n",
    "for nb in liste_de_nombres :\n",
    "    sum += nb\n",
    "print(\"La moyenne de\", liste_de_nombres, \"vaut\", sum / len(liste_de_nombres))"
   ]
  },
  {
   "cell_type": "markdown",
   "metadata": {
    "slideshow": {
     "slide_type": "slide"
    }
   },
   "source": [
    "**A retenir :**\n",
    "\n",
    "* La boucle **for** est utilisée quand on veut faire un traitement sur un ensemble de données regroupées dans un objet."
   ]
  },
  {
   "cell_type": "markdown",
   "metadata": {
    "slideshow": {
     "slide_type": "slide"
    }
   },
   "source": [
    "**Et si on ne connaît pas à l’avance le nombre de fois que le traitement sera répété ?**\n",
    "\n",
    "$\\rightarrow$ Utilisation de la boucle **while** !!"
   ]
  },
  {
   "cell_type": "markdown",
   "metadata": {
    "slideshow": {
     "slide_type": "slide"
    }
   },
   "source": [
    "### La boucle while\n",
    "\n",
    "Une boucle **while** exécute d'une manière itérative des instructions tant qu'une condition reste **True**.\n",
    "\n",
    "**Syntaxe :**\n",
    "    \n",
    "**while** *condition* **:**  \n",
    "&nbsp;&nbsp; *action 1*     \n",
    "&nbsp;&nbsp; *action 2*  \n",
    "&nbsp;&nbsp; *...*  \n",
    "&nbsp;&nbsp; *action n*\n",
    "\n",
    "1. Mot clé **while**, suivi d'un espace  \n",
    "2. Une **expression de contrôle** (*condition*), expression booléenne, contrôle l'exécution de la boucle. **Cette expression\n",
    "est testée avant chaque itération.**\n",
    "3. Nous terminons la ligne par un **deux-points (:)** \n",
    "4. Une ou plusieurs actions **indentées** à répèter. Les instructions dans le corps de la boucle sont exécutées si l'expression de contrôle reste satisfaite (**True**)."
   ]
  },
  {
   "cell_type": "markdown",
   "metadata": {
    "slideshow": {
     "slide_type": "slide"
    }
   },
   "source": [
    "Exemple : "
   ]
  },
  {
   "cell_type": "code",
   "execution_count": null,
   "metadata": {
    "slideshow": {
     "slide_type": "fragment"
    }
   },
   "outputs": [],
   "source": [
    "i = 1\n",
    "while i < 10 : \n",
    "    print(\"i =\", i)\n",
    "    i = i + 1\n",
    "print(\"Terminé\")"
   ]
  },
  {
   "cell_type": "markdown",
   "metadata": {
    "slideshow": {
     "slide_type": "fragment"
    }
   },
   "source": [
    "* La variable *i* est initialisée à 1\n",
    "* Puisque la condition (i < 10) est **True**, le programme entre dans la boucle et affiche la valeur de *i* (première itération).\n",
    "* La valeur de *i* s'incrémente par 1 (ligne 4), jusqu'à 10; tant que la condition est **True**. \n",
    "* Lorsque *i* vaut 10, et lors de la vérification de la condition de contrôle, la condition (i < 10) vaut **False** et donc la boucle se termine."
   ]
  },
  {
   "cell_type": "markdown",
   "metadata": {
    "slideshow": {
     "slide_type": "slide"
    }
   },
   "source": [
    "Quel est le résultat du code suivant ?"
   ]
  },
  {
   "cell_type": "code",
   "execution_count": null,
   "metadata": {
    "slideshow": {
     "slide_type": "fragment"
    }
   },
   "outputs": [],
   "source": [
    "sum = 0\n",
    "i = 1\n",
    "while i < 10:\n",
    "    sum = sum + i\n",
    "i = i + 1  "
   ]
  },
  {
   "cell_type": "markdown",
   "metadata": {
    "slideshow": {
     "slide_type": "fragment"
    }
   },
   "source": [
    "Que se passe t'il ici ?\n",
    "* *i* vaut toujours 1 \n",
    "* i < 10 sera toujours **True**\n",
    "\n",
    "**! Il faut inclure un code dans la boucle qui permet de modifier l'état de l'expression de contrôle**  \n",
    "**! Il faut faire attention à l'indentation des instructions sous la boucle**"
   ]
  },
  {
   "cell_type": "markdown",
   "metadata": {
    "slideshow": {
     "slide_type": "slide"
    }
   },
   "source": [
    "On veut écrire un script qui permet de générer aléatoirement un nombre compris entre 1 et 100, et ensuite demander à l'utilisateur de le deviner. \n",
    "Tant que l'utilisateur n'a pas réussi à deviner le nombre, le programme lui indique dans quelle direction il faut deviner. Ce jeu se poursuit jusqu'à la bonne réponse de l'utilisateur.\n",
    "\n",
    "**!!** La fonction **random.randint(min, max)** renvoie un entier aléatoire supérieur ou égal à **min** et inférieur ou égal à **max**."
   ]
  },
  {
   "cell_type": "code",
   "execution_count": null,
   "metadata": {
    "slideshow": {
     "slide_type": "fragment"
    }
   },
   "outputs": [],
   "source": [
    "# To random library: https://docs.python.org/3/library/random.html\n",
    "import random\n",
    "\n",
    "nombre_a_deviner = random.randint(1, 100)\n",
    "reponse_utilisateur = 0\n",
    "\n",
    "while not reponse_utilisateur == nombre_a_deviner :\n",
    "    reponse_utilisateur = int(input(\"Entrez un nombre:\"))\n",
    "    if reponse_utilisateur > nombre_a_deviner :\n",
    "        print(\"Trop grand!\")\n",
    "    elif reponse_utilisateur < nombre_a_deviner :\n",
    "        print(\"Trop petit!\")\n",
    "    else :\n",
    "        print(\"Bravo\")"
   ]
  },
  {
   "cell_type": "markdown",
   "metadata": {
    "slideshow": {
     "slide_type": "slide"
    }
   },
   "source": [
    "**Toute boucle *for* peut être écrite sous la forme d'une boucle *while*.**\n",
    "\n",
    "Exemple : "
   ]
  },
  {
   "cell_type": "code",
   "execution_count": null,
   "metadata": {
    "slideshow": {
     "slide_type": "fragment"
    }
   },
   "outputs": [],
   "source": [
    "for i in range (1, 6) :\n",
    "    print('Programmer c est cool!')"
   ]
  },
  {
   "cell_type": "code",
   "execution_count": null,
   "metadata": {
    "slideshow": {
     "slide_type": "fragment"
    }
   },
   "outputs": [],
   "source": [
    "i =  0 \n",
    "while (i < 5) :\n",
    "    print('Programmer c est cool!')\n",
    "    i += 1"
   ]
  },
  {
   "cell_type": "markdown",
   "metadata": {
    "slideshow": {
     "slide_type": "slide"
    }
   },
   "source": [
    "### Boucles imbriquées\n",
    "\n",
    "Exemple : Modifions le jeu de la devinette précédemment vue afin de permettre au joueur de décider à l'avance combien de fois il souhaite jouer."
   ]
  },
  {
   "cell_type": "code",
   "execution_count": null,
   "metadata": {
    "slideshow": {
     "slide_type": "fragment"
    }
   },
   "outputs": [],
   "source": [
    "import random\n",
    "\n",
    "nb_jeu = int(input(\"Combien de fois vous voulez jouer? \"))\n",
    "\n",
    "for i in range(0, nb_jeu) :\n",
    "    print(\"Le Jeu démarre!\")\n",
    "    \n",
    "    nombre_a_deviner = random.randint(1, 100)\n",
    "    reponse_utilisateur = 0\n",
    "    \n",
    "    while not reponse_utilisateur == nombre_a_deviner :\n",
    "        reponse_utilisateur = int(input(\"Entrez une réponse:\"))\n",
    "        \n",
    "        if reponse_utilisateur > nombre_a_deviner :\n",
    "            print(\"Trop grand!\")\n",
    "        elif reponse_utilisateur < nombre_a_deviner :\n",
    "            print(\"Trop petit !\")\n",
    "        else :\n",
    "            print(\"Bravo!\")"
   ]
  },
  {
   "cell_type": "markdown",
   "metadata": {
    "slideshow": {
     "slide_type": "slide"
    }
   },
   "source": [
    "Que faire si l'utilisateur décide de poursuivre le jeu lorsque le jeu arrive à sa fin ?"
   ]
  },
  {
   "cell_type": "code",
   "execution_count": null,
   "metadata": {
    "slideshow": {
     "slide_type": "fragment"
    }
   },
   "outputs": [],
   "source": [
    "import random\n",
    "\n",
    "continuer_a_jouer = \"oui\"\n",
    "\n",
    "while continuer_a_jouer == \"oui\" :\n",
    "    print(\"Le Jeu démarre!\")\n",
    "    \n",
    "    nombre_a_deviner = random.randint(1, 100)\n",
    "    reponse_utilisateur = 0\n",
    "    \n",
    "    while not reponse_utilisateur == nombre_a_deviner :\n",
    "        reponse_utilisateur = int(input(\"Entrez un nombre: \"))\n",
    "        \n",
    "        if reponse_utilisateur > nombre_a_deviner :\n",
    "            print(\"Trop grand!\")\n",
    "        elif reponse_utilisateur < nombre_a_deviner :\n",
    "            print(\"Trop petit\")\n",
    "        else :\n",
    "            print(\"Bravo!\")\n",
    "    continuer_a_jouer = input(\"Voulez vous continuer à jouer ? (oui ou non) \")"
   ]
  },
  {
   "cell_type": "markdown",
   "metadata": {
    "slideshow": {
     "slide_type": "slide"
    }
   },
   "source": [
    "### D’autres outils de contrôle : *continue* et *break* \n",
    "\n",
    "* Le mot clé **continue** permet de passer prématurément à l'itération suivante de la boucle."
   ]
  },
  {
   "cell_type": "code",
   "execution_count": null,
   "metadata": {
    "slideshow": {
     "slide_type": "fragment"
    }
   },
   "outputs": [],
   "source": [
    "for i in range(1, 21) :\n",
    "    if i % 2 == 0 :\n",
    "        continue\n",
    "        print(\"résultat?\")\n",
    "    print(i, \"est impair\")\n",
    "print(\"Terminé\") "
   ]
  },
  {
   "cell_type": "markdown",
   "metadata": {
    "slideshow": {
     "slide_type": "fragment"
    }
   },
   "source": [
    "* Le mot clé **break** permet de *casser* (arrêter) l’exécution d’une boucle et de passer à l’instruction suivante."
   ]
  },
  {
   "cell_type": "code",
   "execution_count": null,
   "metadata": {
    "slideshow": {
     "slide_type": "fragment"
    }
   },
   "outputs": [],
   "source": [
    "for i in range(1, 21) :\n",
    "    if i % 2 == 0 :\n",
    "        break\n",
    "    print(i, \"est impair\")\n",
    "print(\"Terminé\") "
   ]
  },
  {
   "cell_type": "markdown",
   "metadata": {
    "slideshow": {
     "slide_type": "slide"
    }
   },
   "source": [
    "**Questions :**\n",
    "* Quel est le résultat de ce code ?"
   ]
  },
  {
   "cell_type": "code",
   "execution_count": null,
   "metadata": {
    "slideshow": {
     "slide_type": "fragment"
    }
   },
   "outputs": [],
   "source": [
    "cpt = 0\n",
    "while cpt <= 3:\n",
    "    print(cpt)\n",
    "    cpt += 1"
   ]
  },
  {
   "cell_type": "markdown",
   "metadata": {
    "slideshow": {
     "slide_type": "slide"
    }
   },
   "source": [
    "* Quel est le résultat de ce code ?"
   ]
  },
  {
   "cell_type": "code",
   "execution_count": null,
   "metadata": {
    "slideshow": {
     "slide_type": "fragment"
    }
   },
   "outputs": [],
   "source": [
    "cpt = 5\n",
    "while cpt > 0:\n",
    "    cpt -= 1\n",
    "    print(cpt)"
   ]
  },
  {
   "cell_type": "markdown",
   "metadata": {
    "slideshow": {
     "slide_type": "slide"
    }
   },
   "source": [
    "* Quel est le résultat de ce code ?"
   ]
  },
  {
   "cell_type": "code",
   "execution_count": null,
   "metadata": {
    "slideshow": {
     "slide_type": "fragment"
    }
   },
   "outputs": [],
   "source": [
    "for i in range(1, 6):\n",
    "    j = 0\n",
    "    while j < i:\n",
    "        print(j, end = \" \")\n",
    "        j += 1\n",
    "    print(\"\")"
   ]
  },
  {
   "cell_type": "code",
   "execution_count": 26,
   "metadata": {},
   "outputs": [
    {
     "name": "stdout",
     "output_type": "stream",
     "text": [
      "Help on class str in module builtins:\n",
      "\n",
      "class str(object)\n",
      " |  str(object='') -> str\n",
      " |  str(bytes_or_buffer[, encoding[, errors]]) -> str\n",
      " |  \n",
      " |  Create a new string object from the given object. If encoding or\n",
      " |  errors is specified, then the object must expose a data buffer\n",
      " |  that will be decoded using the given encoding and error handler.\n",
      " |  Otherwise, returns the result of object.__str__() (if defined)\n",
      " |  or repr(object).\n",
      " |  encoding defaults to sys.getdefaultencoding().\n",
      " |  errors defaults to 'strict'.\n",
      " |  \n",
      " |  Methods defined here:\n",
      " |  \n",
      " |  __add__(self, value, /)\n",
      " |      Return self+value.\n",
      " |  \n",
      " |  __contains__(self, key, /)\n",
      " |      Return key in self.\n",
      " |  \n",
      " |  __eq__(self, value, /)\n",
      " |      Return self==value.\n",
      " |  \n",
      " |  __format__(self, format_spec, /)\n",
      " |      Return a formatted version of the string as described by format_spec.\n",
      " |  \n",
      " |  __ge__(self, value, /)\n",
      " |      Return self>=value.\n",
      " |  \n",
      " |  __getattribute__(self, name, /)\n",
      " |      Return getattr(self, name).\n",
      " |  \n",
      " |  __getitem__(self, key, /)\n",
      " |      Return self[key].\n",
      " |  \n",
      " |  __getnewargs__(...)\n",
      " |  \n",
      " |  __gt__(self, value, /)\n",
      " |      Return self>value.\n",
      " |  \n",
      " |  __hash__(self, /)\n",
      " |      Return hash(self).\n",
      " |  \n",
      " |  __iter__(self, /)\n",
      " |      Implement iter(self).\n",
      " |  \n",
      " |  __le__(self, value, /)\n",
      " |      Return self<=value.\n",
      " |  \n",
      " |  __len__(self, /)\n",
      " |      Return len(self).\n",
      " |  \n",
      " |  __lt__(self, value, /)\n",
      " |      Return self<value.\n",
      " |  \n",
      " |  __mod__(self, value, /)\n",
      " |      Return self%value.\n",
      " |  \n",
      " |  __mul__(self, value, /)\n",
      " |      Return self*value.\n",
      " |  \n",
      " |  __ne__(self, value, /)\n",
      " |      Return self!=value.\n",
      " |  \n",
      " |  __repr__(self, /)\n",
      " |      Return repr(self).\n",
      " |  \n",
      " |  __rmod__(self, value, /)\n",
      " |      Return value%self.\n",
      " |  \n",
      " |  __rmul__(self, value, /)\n",
      " |      Return value*self.\n",
      " |  \n",
      " |  __sizeof__(self, /)\n",
      " |      Return the size of the string in memory, in bytes.\n",
      " |  \n",
      " |  __str__(self, /)\n",
      " |      Return str(self).\n",
      " |  \n",
      " |  capitalize(self, /)\n",
      " |      Return a capitalized version of the string.\n",
      " |      \n",
      " |      More specifically, make the first character have upper case and the rest lower\n",
      " |      case.\n",
      " |  \n",
      " |  casefold(self, /)\n",
      " |      Return a version of the string suitable for caseless comparisons.\n",
      " |  \n",
      " |  center(self, width, fillchar=' ', /)\n",
      " |      Return a centered string of length width.\n",
      " |      \n",
      " |      Padding is done using the specified fill character (default is a space).\n",
      " |  \n",
      " |  count(...)\n",
      " |      S.count(sub[, start[, end]]) -> int\n",
      " |      \n",
      " |      Return the number of non-overlapping occurrences of substring sub in\n",
      " |      string S[start:end].  Optional arguments start and end are\n",
      " |      interpreted as in slice notation.\n",
      " |  \n",
      " |  encode(self, /, encoding='utf-8', errors='strict')\n",
      " |      Encode the string using the codec registered for encoding.\n",
      " |      \n",
      " |      encoding\n",
      " |        The encoding in which to encode the string.\n",
      " |      errors\n",
      " |        The error handling scheme to use for encoding errors.\n",
      " |        The default is 'strict' meaning that encoding errors raise a\n",
      " |        UnicodeEncodeError.  Other possible values are 'ignore', 'replace' and\n",
      " |        'xmlcharrefreplace' as well as any other name registered with\n",
      " |        codecs.register_error that can handle UnicodeEncodeErrors.\n",
      " |  \n",
      " |  endswith(...)\n",
      " |      S.endswith(suffix[, start[, end]]) -> bool\n",
      " |      \n",
      " |      Return True if S ends with the specified suffix, False otherwise.\n",
      " |      With optional start, test S beginning at that position.\n",
      " |      With optional end, stop comparing S at that position.\n",
      " |      suffix can also be a tuple of strings to try.\n",
      " |  \n",
      " |  expandtabs(self, /, tabsize=8)\n",
      " |      Return a copy where all tab characters are expanded using spaces.\n",
      " |      \n",
      " |      If tabsize is not given, a tab size of 8 characters is assumed.\n",
      " |  \n",
      " |  find(...)\n",
      " |      S.find(sub[, start[, end]]) -> int\n",
      " |      \n",
      " |      Return the lowest index in S where substring sub is found,\n",
      " |      such that sub is contained within S[start:end].  Optional\n",
      " |      arguments start and end are interpreted as in slice notation.\n",
      " |      \n",
      " |      Return -1 on failure.\n",
      " |  \n",
      " |  format(...)\n",
      " |      S.format(*args, **kwargs) -> str\n",
      " |      \n",
      " |      Return a formatted version of S, using substitutions from args and kwargs.\n",
      " |      The substitutions are identified by braces ('{' and '}').\n",
      " |  \n",
      " |  format_map(...)\n",
      " |      S.format_map(mapping) -> str\n",
      " |      \n",
      " |      Return a formatted version of S, using substitutions from mapping.\n",
      " |      The substitutions are identified by braces ('{' and '}').\n",
      " |  \n",
      " |  index(...)\n",
      " |      S.index(sub[, start[, end]]) -> int\n",
      " |      \n",
      " |      Return the lowest index in S where substring sub is found,\n",
      " |      such that sub is contained within S[start:end].  Optional\n",
      " |      arguments start and end are interpreted as in slice notation.\n",
      " |      \n",
      " |      Raises ValueError when the substring is not found.\n",
      " |  \n",
      " |  isalnum(self, /)\n",
      " |      Return True if the string is an alpha-numeric string, False otherwise.\n",
      " |      \n",
      " |      A string is alpha-numeric if all characters in the string are alpha-numeric and\n",
      " |      there is at least one character in the string.\n",
      " |  \n",
      " |  isalpha(self, /)\n",
      " |      Return True if the string is an alphabetic string, False otherwise.\n",
      " |      \n",
      " |      A string is alphabetic if all characters in the string are alphabetic and there\n",
      " |      is at least one character in the string.\n",
      " |  \n",
      " |  isascii(self, /)\n",
      " |      Return True if all characters in the string are ASCII, False otherwise.\n",
      " |      \n",
      " |      ASCII characters have code points in the range U+0000-U+007F.\n",
      " |      Empty string is ASCII too.\n",
      " |  \n",
      " |  isdecimal(self, /)\n",
      " |      Return True if the string is a decimal string, False otherwise.\n",
      " |      \n",
      " |      A string is a decimal string if all characters in the string are decimal and\n",
      " |      there is at least one character in the string.\n",
      " |  \n",
      " |  isdigit(self, /)\n",
      " |      Return True if the string is a digit string, False otherwise.\n",
      " |      \n",
      " |      A string is a digit string if all characters in the string are digits and there\n",
      " |      is at least one character in the string.\n",
      " |  \n",
      " |  isidentifier(self, /)\n",
      " |      Return True if the string is a valid Python identifier, False otherwise.\n",
      " |      \n",
      " |      Call keyword.iskeyword(s) to test whether string s is a reserved identifier,\n",
      " |      such as \"def\" or \"class\".\n",
      " |  \n",
      " |  islower(self, /)\n",
      " |      Return True if the string is a lowercase string, False otherwise.\n",
      " |      \n",
      " |      A string is lowercase if all cased characters in the string are lowercase and\n",
      " |      there is at least one cased character in the string.\n",
      " |  \n",
      " |  isnumeric(self, /)\n",
      " |      Return True if the string is a numeric string, False otherwise.\n",
      " |      \n",
      " |      A string is numeric if all characters in the string are numeric and there is at\n",
      " |      least one character in the string.\n",
      " |  \n",
      " |  isprintable(self, /)\n",
      " |      Return True if the string is printable, False otherwise.\n",
      " |      \n",
      " |      A string is printable if all of its characters are considered printable in\n",
      " |      repr() or if it is empty.\n",
      " |  \n",
      " |  isspace(self, /)\n",
      " |      Return True if the string is a whitespace string, False otherwise.\n",
      " |      \n",
      " |      A string is whitespace if all characters in the string are whitespace and there\n",
      " |      is at least one character in the string.\n",
      " |  \n",
      " |  istitle(self, /)\n",
      " |      Return True if the string is a title-cased string, False otherwise.\n",
      " |      \n",
      " |      In a title-cased string, upper- and title-case characters may only\n",
      " |      follow uncased characters and lowercase characters only cased ones.\n",
      " |  \n",
      " |  isupper(self, /)\n",
      " |      Return True if the string is an uppercase string, False otherwise.\n",
      " |      \n",
      " |      A string is uppercase if all cased characters in the string are uppercase and\n",
      " |      there is at least one cased character in the string.\n",
      " |  \n",
      " |  join(self, iterable, /)\n",
      " |      Concatenate any number of strings.\n",
      " |      \n",
      " |      The string whose method is called is inserted in between each given string.\n",
      " |      The result is returned as a new string.\n",
      " |      \n",
      " |      Example: '.'.join(['ab', 'pq', 'rs']) -> 'ab.pq.rs'\n",
      " |  \n",
      " |  ljust(self, width, fillchar=' ', /)\n",
      " |      Return a left-justified string of length width.\n",
      " |      \n",
      " |      Padding is done using the specified fill character (default is a space).\n",
      " |  \n",
      " |  lower(self, /)\n",
      " |      Return a copy of the string converted to lowercase.\n",
      " |  \n",
      " |  lstrip(self, chars=None, /)\n",
      " |      Return a copy of the string with leading whitespace removed.\n",
      " |      \n",
      " |      If chars is given and not None, remove characters in chars instead.\n",
      " |  \n",
      " |  partition(self, sep, /)\n",
      " |      Partition the string into three parts using the given separator.\n",
      " |      \n",
      " |      This will search for the separator in the string.  If the separator is found,\n",
      " |      returns a 3-tuple containing the part before the separator, the separator\n",
      " |      itself, and the part after it.\n",
      " |      \n",
      " |      If the separator is not found, returns a 3-tuple containing the original string\n",
      " |      and two empty strings.\n",
      " |  \n",
      " |  removeprefix(self, prefix, /)\n",
      " |      Return a str with the given prefix string removed if present.\n",
      " |      \n",
      " |      If the string starts with the prefix string, return string[len(prefix):].\n",
      " |      Otherwise, return a copy of the original string.\n",
      " |  \n",
      " |  removesuffix(self, suffix, /)\n",
      " |      Return a str with the given suffix string removed if present.\n",
      " |      \n",
      " |      If the string ends with the suffix string and that suffix is not empty,\n",
      " |      return string[:-len(suffix)]. Otherwise, return a copy of the original\n",
      " |      string.\n",
      " |  \n",
      " |  replace(self, old, new, count=-1, /)\n",
      " |      Return a copy with all occurrences of substring old replaced by new.\n",
      " |      \n",
      " |        count\n",
      " |          Maximum number of occurrences to replace.\n",
      " |          -1 (the default value) means replace all occurrences.\n",
      " |      \n",
      " |      If the optional argument count is given, only the first count occurrences are\n",
      " |      replaced.\n",
      " |  \n",
      " |  rfind(...)\n",
      " |      S.rfind(sub[, start[, end]]) -> int\n",
      " |      \n",
      " |      Return the highest index in S where substring sub is found,\n",
      " |      such that sub is contained within S[start:end].  Optional\n",
      " |      arguments start and end are interpreted as in slice notation.\n",
      " |      \n",
      " |      Return -1 on failure.\n",
      " |  \n",
      " |  rindex(...)\n",
      " |      S.rindex(sub[, start[, end]]) -> int\n",
      " |      \n",
      " |      Return the highest index in S where substring sub is found,\n",
      " |      such that sub is contained within S[start:end].  Optional\n",
      " |      arguments start and end are interpreted as in slice notation.\n",
      " |      \n",
      " |      Raises ValueError when the substring is not found.\n",
      " |  \n",
      " |  rjust(self, width, fillchar=' ', /)\n",
      " |      Return a right-justified string of length width.\n",
      " |      \n",
      " |      Padding is done using the specified fill character (default is a space).\n",
      " |  \n",
      " |  rpartition(self, sep, /)\n",
      " |      Partition the string into three parts using the given separator.\n",
      " |      \n",
      " |      This will search for the separator in the string, starting at the end. If\n",
      " |      the separator is found, returns a 3-tuple containing the part before the\n",
      " |      separator, the separator itself, and the part after it.\n",
      " |      \n",
      " |      If the separator is not found, returns a 3-tuple containing two empty strings\n",
      " |      and the original string.\n",
      " |  \n",
      " |  rsplit(self, /, sep=None, maxsplit=-1)\n",
      " |      Return a list of the words in the string, using sep as the delimiter string.\n",
      " |      \n",
      " |        sep\n",
      " |          The delimiter according which to split the string.\n",
      " |          None (the default value) means split according to any whitespace,\n",
      " |          and discard empty strings from the result.\n",
      " |        maxsplit\n",
      " |          Maximum number of splits to do.\n",
      " |          -1 (the default value) means no limit.\n",
      " |      \n",
      " |      Splits are done starting at the end of the string and working to the front.\n",
      " |  \n",
      " |  rstrip(self, chars=None, /)\n",
      " |      Return a copy of the string with trailing whitespace removed.\n",
      " |      \n",
      " |      If chars is given and not None, remove characters in chars instead.\n",
      " |  \n",
      " |  split(self, /, sep=None, maxsplit=-1)\n",
      " |      Return a list of the words in the string, using sep as the delimiter string.\n",
      " |      \n",
      " |      sep\n",
      " |        The delimiter according which to split the string.\n",
      " |        None (the default value) means split according to any whitespace,\n",
      " |        and discard empty strings from the result.\n",
      " |      maxsplit\n",
      " |        Maximum number of splits to do.\n",
      " |        -1 (the default value) means no limit.\n",
      " |  \n",
      " |  splitlines(self, /, keepends=False)\n",
      " |      Return a list of the lines in the string, breaking at line boundaries.\n",
      " |      \n",
      " |      Line breaks are not included in the resulting list unless keepends is given and\n",
      " |      true.\n",
      " |  \n",
      " |  startswith(...)\n",
      " |      S.startswith(prefix[, start[, end]]) -> bool\n",
      " |      \n",
      " |      Return True if S starts with the specified prefix, False otherwise.\n",
      " |      With optional start, test S beginning at that position.\n",
      " |      With optional end, stop comparing S at that position.\n",
      " |      prefix can also be a tuple of strings to try.\n",
      " |  \n",
      " |  strip(self, chars=None, /)\n",
      " |      Return a copy of the string with leading and trailing whitespace removed.\n",
      " |      \n",
      " |      If chars is given and not None, remove characters in chars instead.\n",
      " |  \n",
      " |  swapcase(self, /)\n",
      " |      Convert uppercase characters to lowercase and lowercase characters to uppercase.\n",
      " |  \n",
      " |  title(self, /)\n",
      " |      Return a version of the string where each word is titlecased.\n",
      " |      \n",
      " |      More specifically, words start with uppercased characters and all remaining\n",
      " |      cased characters have lower case.\n",
      " |  \n",
      " |  translate(self, table, /)\n",
      " |      Replace each character in the string using the given translation table.\n",
      " |      \n",
      " |        table\n",
      " |          Translation table, which must be a mapping of Unicode ordinals to\n",
      " |          Unicode ordinals, strings, or None.\n",
      " |      \n",
      " |      The table must implement lookup/indexing via __getitem__, for instance a\n",
      " |      dictionary or list.  If this operation raises LookupError, the character is\n",
      " |      left untouched.  Characters mapped to None are deleted.\n",
      " |  \n",
      " |  upper(self, /)\n",
      " |      Return a copy of the string converted to uppercase.\n",
      " |  \n",
      " |  zfill(self, width, /)\n",
      " |      Pad a numeric string with zeros on the left, to fill a field of the given width.\n",
      " |      \n",
      " |      The string is never truncated.\n",
      " |  \n",
      " |  ----------------------------------------------------------------------\n",
      " |  Static methods defined here:\n",
      " |  \n",
      " |  __new__(*args, **kwargs) from builtins.type\n",
      " |      Create and return a new object.  See help(type) for accurate signature.\n",
      " |  \n",
      " |  maketrans(...)\n",
      " |      Return a translation table usable for str.translate().\n",
      " |      \n",
      " |      If there is only one argument, it must be a dictionary mapping Unicode\n",
      " |      ordinals (integers) or characters to Unicode ordinals, strings or None.\n",
      " |      Character keys will be then converted to ordinals.\n",
      " |      If there are two arguments, they must be strings of equal length, and\n",
      " |      in the resulting dictionary, each character in x will be mapped to the\n",
      " |      character at the same position in y. If there is a third argument, it\n",
      " |      must be a string, whose characters will be mapped to None in the result.\n",
      "\n"
     ]
    }
   ],
   "source": [
    "help(str)"
   ]
  },
  {
   "cell_type": "code",
   "execution_count": 29,
   "metadata": {},
   "outputs": [
    {
     "data": {
      "text/plain": [
       "False"
      ]
     },
     "execution_count": 29,
     "metadata": {},
     "output_type": "execute_result"
    }
   ],
   "source": [
    "a,b= \"mp\",\"cd\"\n",
    "b>a"
   ]
  },
  {
   "cell_type": "markdown",
   "metadata": {},
   "source": [
    "help(str)"
   ]
  }
 ],
 "metadata": {
  "celltoolbar": "Diaporama",
  "kernelspec": {
   "display_name": "Python 3.10.4 ('l1-python')",
   "language": "python",
   "name": "python3"
  },
  "language_info": {
   "codemirror_mode": {
    "name": "ipython",
    "version": 3
   },
   "file_extension": ".py",
   "mimetype": "text/x-python",
   "name": "python",
   "nbconvert_exporter": "python",
   "pygments_lexer": "ipython3",
   "version": "3.10.4"
  },
  "vscode": {
   "interpreter": {
    "hash": "014cb9d83026b9c50ea03e62b7bea9f0f1470472ea64b2b9be2b3cd5079cb509"
   }
  }
 },
 "nbformat": 4,
 "nbformat_minor": 4
}
