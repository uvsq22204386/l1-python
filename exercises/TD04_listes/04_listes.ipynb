{
 "cells": [
  {
   "cell_type": "markdown",
   "metadata": {},
   "source": [
    "# TD 4: Listes"
   ]
  },
  {
   "cell_type": "markdown",
   "metadata": {},
   "source": [
    "---\n",
    "\n",
    "## 1. Débuts avec les listes\n",
    "\n",
    "Dans cette partie, il faut écrire les réponses directement dans le notebook. En plus du cours, n'hésitez pas à consulter la documentation (tutoriel) Python sur les listes [ici (introduction aux listes)](https://docs.python.org/fr/3.6/tutorial/introduction.html#lists) et [ici (complément sur les listes)] (https://docs.python.org/fr/3/tutorial/datastructures.html#more-on-lists).\n",
    "\n",
    "1. Créer la liste `3, 5, 10`, l'affecter à une variable, puis l'afficher."
   ]
  },
  {
   "cell_type": "code",
   "execution_count": 8,
   "metadata": {},
   "outputs": [
    {
     "name": "stdout",
     "output_type": "stream",
     "text": [
      "[3, 5, 10]\n"
     ]
    }
   ],
   "source": [
    "x = [3,5,10]\n",
    "print(x)"
   ]
  },
  {
   "cell_type": "markdown",
   "metadata": {},
   "source": [
    "2. Ajouter ensuite 12 et 17 à la fin puis afficher à nouveau la liste."
   ]
  },
  {
   "cell_type": "code",
   "execution_count": 3,
   "metadata": {},
   "outputs": [
    {
     "name": "stdout",
     "output_type": "stream",
     "text": [
      "[3, 5, 10, 12, 17]\n"
     ]
    }
   ],
   "source": [
    "x.extend([12,17])\n",
    "print(x)"
   ]
  },
  {
   "cell_type": "markdown",
   "metadata": {},
   "source": [
    "3. Changer le 10 en -7."
   ]
  },
  {
   "cell_type": "code",
   "execution_count": 7,
   "metadata": {},
   "outputs": [
    {
     "name": "stdout",
     "output_type": "stream",
     "text": [
      "[6, 10, -7, 48, 68]\n"
     ]
    }
   ],
   "source": [
    "x[2]=-7\n",
    "print(x)"
   ]
  },
  {
   "cell_type": "markdown",
   "metadata": {},
   "source": [
    "4. Avec une boucle `for`, écrire le double de chaque élément de la liste. Cela doit afficher `[6, 10, -14, 24, 34]`. La liste doit être modifiée."
   ]
  },
  {
   "cell_type": "code",
   "execution_count": 13,
   "metadata": {},
   "outputs": [
    {
     "name": "stdout",
     "output_type": "stream",
     "text": [
      "[6, 10, -14, 24, 34]\n"
     ]
    }
   ],
   "source": [
    "x = [3, 5, -7, 12, 17]\n",
    "for i in range(0,len(x)):\n",
    "    x[i]*=2\n",
    "print(x)"
   ]
  },
  {
   "cell_type": "markdown",
   "metadata": {},
   "source": [
    "5. A l'aide d'une boucle `for`, ajouter  la valeur `i` à l'élément d'indice `i` de la liste. Cela doit afficher `[6, 11, -12, 27, 38]`. La liste doit être modifiée."
   ]
  },
  {
   "cell_type": "code",
   "execution_count": 9,
   "metadata": {},
   "outputs": [
    {
     "name": "stdout",
     "output_type": "stream",
     "text": [
      "[6, 11, -12, 27, 38]\n"
     ]
    }
   ],
   "source": [
    "for i in range(0,len(x)):\n",
    "    x[i]+=i\n",
    "print(x)"
   ]
  },
  {
   "cell_type": "markdown",
   "metadata": {},
   "source": [
    "6. Tirer 10 nombres à 2 chiffres au hasard et les mettre dans une nouvelle liste (vide au départ), puis afficher la somme des entiers de la liste et le plus grand de ces entiers."
   ]
  },
  {
   "cell_type": "code",
   "execution_count": 15,
   "metadata": {},
   "outputs": [
    {
     "name": "stdout",
     "output_type": "stream",
     "text": [
      "[28, 43, 75, 71, 42, 22, 94, 30, 81, 89] 575 94\n"
     ]
    }
   ],
   "source": [
    "import random\n",
    "a=[]\n",
    "b=0\n",
    "for i in range (10):\n",
    "    a.append(random.randint(10,100))\n",
    "#for i in range(10):\n",
    "    #b+=a[i]\n",
    "print(a,sum(a),max(a))\n"
   ]
  },
  {
   "cell_type": "markdown",
   "metadata": {},
   "source": [
    "7. A partir de la liste choisie au hasard, créer une liste qui contient les éléments pairs et une deuxième liste qui contient les éléments impairs."
   ]
  },
  {
   "cell_type": "code",
   "execution_count": 16,
   "metadata": {},
   "outputs": [
    {
     "name": "stdout",
     "output_type": "stream",
     "text": [
      "[60, 84, 72, 58] [89, 39, 23, 25, 19, 37]\n"
     ]
    }
   ],
   "source": [
    "pair=[]\n",
    "impair=[]\n",
    "for i in range(0,len(a)):\n",
    "    if a[i]%2==0:\n",
    "        pair.append(a[i])\n",
    "    else:\n",
    "        impair.append(a[i])\n",
    "print(pair,impair)"
   ]
  },
  {
   "cell_type": "code",
   "execution_count": null,
   "metadata": {},
   "outputs": [],
   "source": []
  },
  {
   "cell_type": "markdown",
   "metadata": {},
   "source": [
    "8. Trier la liste choisie au hasard par ordre croissant en modifiant la liste."
   ]
  },
  {
   "cell_type": "code",
   "execution_count": 22,
   "metadata": {},
   "outputs": [
    {
     "name": "stdout",
     "output_type": "stream",
     "text": [
      "[17, 43, 61, 72, 75, 86, 88, 89, 91, 96]\n"
     ]
    }
   ],
   "source": [
    "a.sort()\n",
    "print(a)"
   ]
  },
  {
   "cell_type": "markdown",
   "metadata": {},
   "source": [
    "9. Supprimer le plus petit et le plus grand élément de la liste triée."
   ]
  },
  {
   "cell_type": "code",
   "execution_count": 24,
   "metadata": {},
   "outputs": [
    {
     "name": "stdout",
     "output_type": "stream",
     "text": [
      "[43, 61, 72, 75, 86, 88, 89, 91]\n"
     ]
    }
   ],
   "source": [
    "a.remove(min(a))\n",
    "a.remove(max(a))\n",
    "print(a)"
   ]
  },
  {
   "cell_type": "markdown",
   "metadata": {},
   "source": [
    "10. Créer la liste des entiers de 1 jusqu'à 52. Ces entiers représentent les cartes d'un paquet de 52 cartes."
   ]
  },
  {
   "cell_type": "code",
   "execution_count": 2,
   "metadata": {},
   "outputs": [
    {
     "name": "stdout",
     "output_type": "stream",
     "text": [
      "[1, 2, 3, 4, 5, 6, 7, 8, 9, 10, 11, 12, 13, 14, 15, 16, 17, 18, 19, 20, 21, 22, 23, 24, 25, 26, 27, 28, 29, 30, 31, 32, 33, 34, 35, 36, 37, 38, 39, 40, 41, 42, 43, 44, 45, 46, 47, 48, 49, 50, 51, 52]\n"
     ]
    }
   ],
   "source": [
    "cartes=[]\n",
    "for i in range (1,53):\n",
    "    cartes.append(i)\n",
    "print(cartes)"
   ]
  },
  {
   "cell_type": "markdown",
   "metadata": {},
   "source": [
    " 11. Couper le jeu de carte revient à choisir un indice `i` entre 0 et 51, et à passer toutes les cartes allant des indices 0 à i-1 à la suite des cartes qui vont des indices i à 51. Ecrire le code qui effectue une coupe choisie au hasard."
   ]
  },
  {
   "cell_type": "code",
   "execution_count": 3,
   "metadata": {},
   "outputs": [
    {
     "name": "stdout",
     "output_type": "stream",
     "text": [
      "[19, 20, 21, 22, 23, 24, 25, 26, 27, 28, 29, 30, 31, 32, 33, 34, 35, 36, 37, 38, 39, 40, 41, 42, 43, 44, 45, 46, 47, 48, 49, 50, 51, 52, 1, 2, 3, 4, 5, 6, 7, 8, 9, 10, 11, 12, 13, 14, 15, 16, 17, 18]\n"
     ]
    }
   ],
   "source": [
    "import random\n",
    "\n",
    "i=random.randint(0,52)\n",
    "\n",
    "cartes1=cartes[0:i-1]\n",
    "\n",
    "del cartes [0:i-1]\n",
    "cartes=cartes+cartes1\n",
    "print(cartes)\n"
   ]
  },
  {
   "cell_type": "markdown",
   "metadata": {},
   "source": [
    "---\n",
    "\n",
    "## 2. Problème de Syracuse\n",
    "\n",
    "Cette partie est à traiter dans un script que vous pouvez appeler, par exemple, `syracuse.py`.\n",
    "\n",
    "En partant d'un entier `n` de départ, on définit une suite d'entiers en obtenant chaque nouveau terme à partir du précédent soit en le divisant par 2 s'il est pair, soit en le multipliant par 3 et en ajoutant 1 s'il est impair. \n",
    "\n",
    "1. Sans écrire de programme, calculer les premières valeurs de la suite en chosissant `n = 3`.\n",
    "\n",
    "2. Ecrire la fonction qui, à partir d'un entier initial, renvoie la liste des valeurs successives jusqu'à ce que la valeur `1` soit atteinte (le dernier élément de la liste est donc toujours 1)."
   ]
  },
  {
   "cell_type": "code",
   "execution_count": null,
   "metadata": {},
   "outputs": [],
   "source": [
    "def syracuse(n):\n",
    "    \"\"\" Retourne la liste des valeurs de la suite en partant de n jusqu'à 1 \"\"\"\n",
    "    pass\n",
    "\n",
    "print(syracuse(3))"
   ]
  },
  {
   "cell_type": "markdown",
   "metadata": {},
   "source": [
    "3. La conjecture de Collatz (ou problème de Syracuse) affirme que, quel que soit l’entier `n` que l’on choisisse au départ, on finit toujours par arriver à 1 (ce résultat est une *conjecture*, c'est-à-dire qu'il n'a pas été démontré, mais qu'il n'existe pas de contre-exemple connu). Écrire une fonction qui, en appelant la fonction précédente, va vérifier si la conjecture est vraie pour `n` de 1 à `n_max`, où `n_max` est un paramètre de la fonction. \n",
    "\n",
    "*Remarque*: si tout se passe bien, la fonction doit juste se terminer et renvoyer `True` par exemple. Sinon, c’est qu’on sera entré dans une boucle infinie."
   ]
  },
  {
   "cell_type": "code",
   "execution_count": null,
   "metadata": {
    "tags": []
   },
   "outputs": [],
   "source": [
    "def testeConjecture(n_max):\n",
    "    \"\"\" Teste la conjecture de Collatz pour toutes les valeurs de 1 à n_max \"\"\"\n",
    "    pass\n",
    "\n",
    "print(testeConjecture(10000))"
   ]
  },
  {
   "cell_type": "markdown",
   "metadata": {},
   "source": [
    "4. On appelle *temps de vol* de l’entier `n` le nombre d’étapes pour aller de `n` jusqu’à 1. Le temps de vol de 1 est 0, le temps de vol de 3 est 7. Écrire une fonction qui, étant donné un paramètre `n`, renvoie son temps de vol."
   ]
  },
  {
   "cell_type": "code",
   "execution_count": null,
   "metadata": {},
   "outputs": [],
   "source": [
    "def tempsVol(n):\n",
    "    \"\"\" Retourne le temps de vol de n \"\"\"\n",
    "    pass\n",
    "\n",
    "print(\"Le temps de vol de\", 3, \"est\", tempsVol(3))"
   ]
  },
  {
   "cell_type": "markdown",
   "metadata": {},
   "source": [
    "5. Ecrire une fonction qui, étant donné un paramètre `n_max` renvoie la liste des temps de vol de tous les entiers de 1 à `n_max`. *Indication*: utiliser une liste en compréhension."
   ]
  },
  {
   "cell_type": "code",
   "execution_count": null,
   "metadata": {},
   "outputs": [],
   "source": [
    "def tempsVolListe(n_max):\n",
    "    \"\"\" Retourne la liste de tous les temps de vol de 1 à n_max \"\"\"\n",
    "    pass\n",
    "\n",
    "print(tempsVolListe(100))"
   ]
  },
  {
   "cell_type": "markdown",
   "metadata": {},
   "source": [
    "6. Déterminer quel entier entre 1 et 10000 a le plus grand temps de vol (réponse 6171 qui a le temps de vol 261)."
   ]
  },
  {
   "cell_type": "markdown",
   "metadata": {},
   "source": [
    "7. L’altitude maximale de l'entier `n` est la plus grande valeur par laquelle passe `n` au cours de son vol. Déterminer quel entier entre 1 et 10000 a la plus grande altitude maximale (réponse 27114424, atteint par l'entier 9663). Ne pas hésiter à écrire de nouvelles fonctions pour cela."
   ]
  },
  {
   "cell_type": "markdown",
   "metadata": {},
   "source": [
    "---\n",
    "\n",
    "## 3. Carré magique\n",
    "\n",
    "*Définition* extraite de [l'article Wikipedia sur le carré magique](https://fr.wikipedia.org/wiki/Carr%C3%A9_magique_(math%C3%A9matiques)): en mathématiques, un carré magique d’ordre $n$ est composé de $n^2$ entiers strictement positifs, écrits sous la forme d’un tableau carré. Ces nombres sont disposés de sorte que leurs sommes sur chaque rangée, sur chaque colonne et sur chaque diagonale principale soient égales. On nomme alors *constante magique* la valeur de ces sommes. \n",
    "\n",
    "Un exemple de carré magique:\n",
    "\n",
    "$$\\begin{bmatrix} 4 & 14 & 15 & 1 \\\\ 9 & 7 & 6 & 12 \\\\ 5 & 11 & 10 & 8 \\\\ 16 & 2 & 3 & 13 \\end{bmatrix}$$\n",
    "\n",
    "1. Sans écrire de programme, vérifier qu'il s'agit bien d'un carré magique, et donner sa constante magique.\n",
    "\n",
    "Les questions qui suivent doivent être traitées dans un script, qui peut s'appeler `carre_magique.py`. Pensez à utiliser [PythonTutor](http://pythontutor.com/) et les outils de programmation pour résoudre les problèmes qui pourraient survenir.\n",
    "\n",
    "2. Créer une liste à deux dimensions affectée à  la variable `carre_mag` contenant ce carré magique."
   ]
  },
  {
   "cell_type": "markdown",
   "metadata": {},
   "source": [
    "3. Créer une deuxième liste affectée à la variable `carre_pas_mag` qui ne soit pas magique à partir du carré magique en changeant le 3 en 7. "
   ]
  },
  {
   "cell_type": "markdown",
   "metadata": {},
   "source": [
    "4. Créer une fonction qui affiche la liste comme un carré."
   ]
  },
  {
   "cell_type": "code",
   "execution_count": null,
   "metadata": {},
   "outputs": [],
   "source": [
    "def afficheCarre(carre):\n",
    "    \"\"\" Affiche la liste à 2 dimensions carre comme un carré\"\"\"\n",
    "    pass\n",
    "\n",
    "afficheCarre(carre_mag)\n",
    "afficheCarre(carre_pas_mag)\n"
   ]
  },
  {
   "cell_type": "markdown",
   "metadata": {},
   "source": [
    "5. Ecrire une fonction qui teste si les lignes du carré ont toutes la même somme. Cette fonction renvoie cette somme si c'est le cas, et `-1` sinon."
   ]
  },
  {
   "cell_type": "code",
   "execution_count": null,
   "metadata": {},
   "outputs": [],
   "source": [
    "def testLignesEgales(carre):\n",
    "    \"\"\" Renvoie la somme des éléments d'une ligne de la liste 2D carre si toutes les lignes ont la même somme, et -1 sinon \"\"\"\n",
    "    pass\n",
    "\n",
    "print(testLignesEgales(carre_mag))\n",
    "print(testLignesEgales(carre_pas_mag))\n"
   ]
  },
  {
   "cell_type": "markdown",
   "metadata": {},
   "source": [
    "6. Même question mais en testant les colonnes."
   ]
  },
  {
   "cell_type": "code",
   "execution_count": null,
   "metadata": {},
   "outputs": [],
   "source": [
    "def testColonnesEgales(carre):\n",
    "    \"\"\" Renvoie la somme des éléments d'une colonne de la liste 2D carre si toutes les colonnes ont la même somme, et -1 sinon \"\"\"\n",
    "    pass\n",
    "\n",
    "print(testColonnesEgales(carre_mag))\n",
    "print(testColonnesEgales(carre_pas_mag))"
   ]
  },
  {
   "cell_type": "markdown",
   "metadata": {},
   "source": [
    "7. Même question mais en testant les 2 diagonales."
   ]
  },
  {
   "cell_type": "code",
   "execution_count": null,
   "metadata": {},
   "outputs": [],
   "source": [
    "def testDiagonalesEgales(carre):\n",
    "    \"\"\" Renvoie la somme des éléments d'une diagonale de la liste 2D carre si les 2 diagonales ont la même somme, et -1 sinon \"\"\"\n",
    "    pass\n",
    "\n",
    "print(testDiagonalesEgales(carre_mag))\n",
    "print(testDiagonalesEgales(carre_pas_mag))"
   ]
  },
  {
   "cell_type": "markdown",
   "metadata": {},
   "source": [
    "8. Créer une fonction qui teste si un carré est magique. Elle retourne `True` si c'est le cas et `False` sinon."
   ]
  },
  {
   "cell_type": "code",
   "execution_count": null,
   "metadata": {},
   "outputs": [],
   "source": [
    "def estCarreMagique(carre):\n",
    "    \"\"\" Renvoie True si c'est un carre magique et False sinon\"\"\"\n",
    "    pass\n",
    "\n",
    "print(estCarreMagique(carre_mag))\n",
    "print(estCarreMagique(carre_pas_mag))"
   ]
  },
  {
   "cell_type": "markdown",
   "metadata": {},
   "source": [
    "9. Un carré d'ordre $n$ est *normal* s'il contient tous les entiers de 1 à $n^2$. Ecrire une fonction qui teste si un carré est normal (pas nécessairement magique)."
   ]
  },
  {
   "cell_type": "code",
   "execution_count": 17,
   "metadata": {},
   "outputs": [
    {
     "ename": "IndexError",
     "evalue": "list index out of range",
     "output_type": "error",
     "traceback": [
      "\u001b[1;31m---------------------------------------------------------------------------\u001b[0m",
      "\u001b[1;31mIndexError\u001b[0m                                Traceback (most recent call last)",
      "\u001b[1;32md:\\Projets\\l1-python\\exercises\\TD04_listes\\04_listes.ipynb Cell 48\u001b[0m in \u001b[0;36m<cell line: 34>\u001b[1;34m()\u001b[0m\n\u001b[0;32m     <a href='vscode-notebook-cell:/d%3A/Projets/l1-python/exercises/TD04_listes/04_listes.ipynb#Y100sZmlsZQ%3D%3D?line=29'>30</a>\u001b[0m                 matrice[i][o]\u001b[39m=\u001b[39m\u001b[39m0\u001b[39m\n\u001b[0;32m     <a href='vscode-notebook-cell:/d%3A/Projets/l1-python/exercises/TD04_listes/04_listes.ipynb#Y100sZmlsZQ%3D%3D?line=30'>31</a>\u001b[0m     \u001b[39mreturn\u001b[39;00m matrice\n\u001b[1;32m---> <a href='vscode-notebook-cell:/d%3A/Projets/l1-python/exercises/TD04_listes/04_listes.ipynb#Y100sZmlsZQ%3D%3D?line=33'>34</a>\u001b[0m \u001b[39mprint\u001b[39m(delColonne(Matrice(\u001b[39m3\u001b[39;49m,\u001b[39m4\u001b[39;49m)))\n",
      "\u001b[1;32md:\\Projets\\l1-python\\exercises\\TD04_listes\\04_listes.ipynb Cell 48\u001b[0m in \u001b[0;36mdelColonne\u001b[1;34m(matrice)\u001b[0m\n\u001b[0;32m     <a href='vscode-notebook-cell:/d%3A/Projets/l1-python/exercises/TD04_listes/04_listes.ipynb#Y100sZmlsZQ%3D%3D?line=24'>25</a>\u001b[0m somme\u001b[39m=\u001b[39m\u001b[39m0\u001b[39m\n\u001b[0;32m     <a href='vscode-notebook-cell:/d%3A/Projets/l1-python/exercises/TD04_listes/04_listes.ipynb#Y100sZmlsZQ%3D%3D?line=25'>26</a>\u001b[0m \u001b[39mfor\u001b[39;00m i \u001b[39min\u001b[39;00m \u001b[39mrange\u001b[39m (\u001b[39mlen\u001b[39m(matrice)):\n\u001b[1;32m---> <a href='vscode-notebook-cell:/d%3A/Projets/l1-python/exercises/TD04_listes/04_listes.ipynb#Y100sZmlsZQ%3D%3D?line=26'>27</a>\u001b[0m     somme\u001b[39m+\u001b[39m\u001b[39m=\u001b[39mmatrice[i][o]\n\u001b[0;32m     <a href='vscode-notebook-cell:/d%3A/Projets/l1-python/exercises/TD04_listes/04_listes.ipynb#Y100sZmlsZQ%3D%3D?line=27'>28</a>\u001b[0m \u001b[39mif\u001b[39;00m somme\u001b[39m%\u001b[39m\u001b[39m42\u001b[39m\u001b[39m==\u001b[39m\u001b[39m0\u001b[39m \u001b[39mor\u001b[39;00m somme\u001b[39m%\u001b[39m\u001b[39m5\u001b[39m\u001b[39m==\u001b[39m\u001b[39m0\u001b[39m:\n\u001b[0;32m     <a href='vscode-notebook-cell:/d%3A/Projets/l1-python/exercises/TD04_listes/04_listes.ipynb#Y100sZmlsZQ%3D%3D?line=28'>29</a>\u001b[0m     \u001b[39mfor\u001b[39;00m i \u001b[39min\u001b[39;00m \u001b[39mrange\u001b[39m (\u001b[39mlen\u001b[39m(matrice)):\n",
      "\u001b[1;31mIndexError\u001b[0m: list index out of range"
     ]
    }
   ],
   "source": [
    "import random \n",
    "\n",
    "def Matrice(n,m):\n",
    "    L1=[[0] * n for i in range(m)]\n",
    "    for i in range (m):\n",
    "        for o in range (n):\n",
    "            L1[i][o]=random.randint(1,101)\n",
    "\n",
    "    return L1\n",
    "\n",
    "def delLigne(matrice):\n",
    "    somme=0\n",
    "    for i in range (len(matrice)):\n",
    "        somme=0\n",
    "        for o in range (len(matrice)):\n",
    "            somme+=matrice[i][o]\n",
    "        if somme%42==0 or somme%5==0:\n",
    "            for o in range (len(matrice)):\n",
    "                matrice[i][o]=0\n",
    "    return matrice\n",
    "\n",
    "def delColonne(matrice):\n",
    "    somme=0\n",
    "    for o in range (len(matrice)):\n",
    "        somme=0\n",
    "        for i in range (len(matrice)):\n",
    "            somme+=matrice[i][o]\n",
    "        if somme%42==0 or somme%5==0:\n",
    "            for i in range (len(matrice)):\n",
    "                matrice[i][o]=0\n",
    "    return matrice\n",
    "\n",
    "\n",
    "print(delColonne(Matrice(3,3)))\n",
    "        \n",
    "\n",
    "\n"
   ]
  },
  {
   "cell_type": "code",
   "execution_count": 35,
   "metadata": {},
   "outputs": [
    {
     "data": {
      "text/plain": [
       "False"
      ]
     },
     "execution_count": 35,
     "metadata": {},
     "output_type": "execute_result"
    }
   ],
   "source": [
    "def somme (liste):\n",
    "    for i in range (len(liste)-1):\n",
    "        if liste[i]+liste[i+1]==10:\n",
    "            return True\n",
    "        else:\n",
    "            return False\n",
    "\n",
    "\n"
   ]
  },
  {
   "cell_type": "code",
   "execution_count": 38,
   "metadata": {},
   "outputs": [
    {
     "data": {
      "text/plain": [
       "3"
      ]
     },
     "execution_count": 38,
     "metadata": {},
     "output_type": "execute_result"
    }
   ],
   "source": [
    "L=[[1,2,5],[3,4,6]]\n",
    "len(L[1])"
   ]
  },
  {
   "cell_type": "code",
   "execution_count": 49,
   "metadata": {},
   "outputs": [
    {
     "name": "stdout",
     "output_type": "stream",
     "text": [
      "[[3, 4, 2], [2, 3, 5], [5, 7, 7]]\n"
     ]
    }
   ],
   "source": [
    "def total_colonnes (mat):\n",
    "    somme=0\n",
    "    mat2=[[0] * len(mat[0]) for i in range(len(mat)+1)]\n",
    "    mat3=[]\n",
    "    for i in range (len(mat[0])):\n",
    "        somme=0\n",
    "        for o in range (len(mat)):\n",
    "            somme+=mat[o][i]\n",
    "        mat3.append(somme)\n",
    "    for i in range (len(mat)):\n",
    "        mat2[i]=mat[i]\n",
    "    mat2[len(mat2)-1]=mat3\n",
    "    return(mat2)\n",
    "        \n",
    "   \n",
    "\n",
    "print(total_colonnes([[3,4,2],[2,3,5]]))\n",
    "\n",
    "    "
   ]
  },
  {
   "cell_type": "code",
   "execution_count": 91,
   "metadata": {},
   "outputs": [
    {
     "name": "stdout",
     "output_type": "stream",
     "text": [
      "([89, 20, 72, 9, 98], 20, 72)\n"
     ]
    }
   ],
   "source": [
    "import random \n",
    "\n",
    "def Liste (n):\n",
    "    Liste=[]\n",
    "    for i in range(n):\n",
    "        Liste.append(random.randint(1,100))\n",
    "    return Liste\n",
    "\n",
    "def Liste2 (liste):\n",
    "    a = random.randint(0,100)\n",
    "    pluspetit = 0\n",
    "    plusgrand = 100\n",
    "    if a in liste:\n",
    "        for i in range (len(liste)):\n",
    "            liste[i]=liste[i]-a\n",
    "    else:\n",
    "        for i in range (len(liste)):\n",
    "            if liste[i]<a and liste[i]>pluspetit:\n",
    "                pluspetit=liste[i]\n",
    "        for p in range (len(liste)):\n",
    "            if liste[p]>a and liste[p]<plusgrand:\n",
    "                plusgrand=liste[p]\n",
    "        return liste,pluspetit,plusgrand\n",
    "    return liste\n",
    "\n",
    "print(Liste2(Liste(5)))\n",
    "        \n",
    "\n",
    "\n",
    "\n"
   ]
  },
  {
   "cell_type": "code",
   "execution_count": null,
   "metadata": {},
   "outputs": [],
   "source": []
  },
  {
   "cell_type": "code",
   "execution_count": 16,
   "metadata": {},
   "outputs": [
    {
     "name": "stdout",
     "output_type": "stream",
     "text": [
      "[[8, 7, -2], [-3, 2, 4], [1, -7, 5], [0, 3, 6]]\n"
     ]
    }
   ],
   "source": [
    "def transpos (matrice):\n",
    "    matrice2 = [[0] * len(matrice) for i in range(len(matrice[0]))]\n",
    "    for i in range (len(matrice)):\n",
    "        for o in range (len(matrice[0])):\n",
    "            matrice2[o][i]=matrice[i][o]\n",
    "    return matrice2\n",
    "\n",
    "#def affich(matrice):\n",
    "#    for i in range (len(matrice)):\n",
    "#        print (matrice[i])\n",
    "    \n",
    "    \n",
    "\n",
    "#print(affich(transpos([[8,-3,1,0],[7,2,-7,3],[-2,4,5,6]])))\n",
    "\n",
    "print(transpos([[8,-3,1,0],[7,2,-7,3],[-2,4,5,6]]))\n"
   ]
  },
  {
   "cell_type": "code",
   "execution_count": 82,
   "metadata": {},
   "outputs": [
    {
     "name": "stdout",
     "output_type": "stream",
     "text": [
      "4\n"
     ]
    }
   ],
   "source": [
    "def petit(liste):\n",
    "    a1=liste[0]\n",
    "    a2=liste[0]\n",
    "    for i in range (1,len(liste)):\n",
    "        if a1>=liste[i]:\n",
    "            a1=liste[i]\n",
    "    for i in range (1,len(liste)):\n",
    "        if a2>=liste[i] and liste[i]>a1:\n",
    "            a2=liste[i]\n",
    "\n",
    "    return(a2)          \n",
    " \n",
    "print(petit([9,6,4,2]))"
   ]
  },
  {
   "cell_type": "code",
   "execution_count": 88,
   "metadata": {},
   "outputs": [
    {
     "name": "stdout",
     "output_type": "stream",
     "text": [
      "[3, -5, 1, 3, -7]\n"
     ]
    }
   ],
   "source": [
    "def differences (liste):\n",
    "    liste2=[]\n",
    "    for i in range (len(liste)-1):\n",
    "        liste2.append(liste[i+1]-liste[i])\n",
    "    return (liste2)\n",
    "\n",
    "print(differences([6,9,4,5,8,1]))\n"
   ]
  },
  {
   "cell_type": "code",
   "execution_count": 92,
   "metadata": {},
   "outputs": [
    {
     "name": "stdout",
     "output_type": "stream",
     "text": [
      "[2, 3, 4, 5]\n"
     ]
    }
   ],
   "source": [
    "def plusOne (ma_liste):\n",
    "    for i in range (len(ma_liste)):\n",
    "        ma_liste[i]+=1\n",
    "    return ma_liste\n",
    "\n",
    "print(plusOne([1,2,3,4]))"
   ]
  },
  {
   "cell_type": "code",
   "execution_count": 104,
   "metadata": {},
   "outputs": [
    {
     "name": "stdout",
     "output_type": "stream",
     "text": [
      "[]\n"
     ]
    }
   ],
   "source": [
    "import random\n",
    "def plan_jour (n):\n",
    "    jour=[]\n",
    "    for i in range (1,random.randint(0,n+1)):\n",
    "        jour.append(i)\n",
    "    return(jour)\n",
    "\n",
    "print(plan_jour(5))\n"
   ]
  },
  {
   "cell_type": "code",
   "execution_count": 110,
   "metadata": {},
   "outputs": [
    {
     "name": "stdout",
     "output_type": "stream",
     "text": [
      "[[1, 3], [8, 5], [3, 3]]\n"
     ]
    }
   ],
   "source": [
    "def somme_matrice  (mat1,mat2):\n",
    "    mat3=[[0]*len(mat1[0]) for i in range (len(mat1))]\n",
    "    for i in range (len(mat1)):\n",
    "        for o in range (len(mat1[0])):\n",
    "            mat3[i][o]=mat1[i][o]+mat2[i][o]\n",
    "    return mat3\n",
    "\n",
    "print(somme_matrice([[1,3],[1,0],[1,2]],[[0,0],[7,5],[2,1]]))\n"
   ]
  },
  {
   "cell_type": "code",
   "execution_count": 25,
   "metadata": {},
   "outputs": [
    {
     "name": "stdout",
     "output_type": "stream",
     "text": [
      "Else\n",
      "Else\n",
      "Break\n",
      "Else\n",
      "Break\n",
      "Else\n",
      "Break\n",
      "Break\n"
     ]
    }
   ],
   "source": [
    "for n in range (2,10):\n",
    "    for x in range(2,n):\n",
    "        if n%x==0:\n",
    "            print(\"Break\")\n",
    "            break\n",
    "    else:\n",
    "            print(\"Else\")"
   ]
  },
  {
   "cell_type": "code",
   "execution_count": 26,
   "metadata": {},
   "outputs": [
    {
     "name": "stdout",
     "output_type": "stream",
     "text": [
      "16\n"
     ]
    }
   ],
   "source": [
    "def f(liste):\n",
    "    c=1\n",
    "    for x in liste:\n",
    "        c=c*2\n",
    "    print(c)\n",
    "f([1,2,3,4])"
   ]
  },
  {
   "cell_type": "code",
   "execution_count": null,
   "metadata": {},
   "outputs": [],
   "source": [
    "def estNormal(carre):\n",
    "    \"\"\" Retourne True si contient toutes les valeurs de 1 à n^2 où n est la taille \n",
    "        du carré, et False sinon \"\"\"\n",
    "    pass\n",
    "\n",
    "print(estNormal(carre_mag))\n",
    "print(estNormal(carre_pas_mag))"
   ]
  }
 ],
 "metadata": {
  "kernelspec": {
   "display_name": "Python 3.10.4 ('l1-python')",
   "language": "python",
   "name": "python3"
  },
  "language_info": {
   "codemirror_mode": {
    "name": "ipython",
    "version": 3
   },
   "file_extension": ".py",
   "mimetype": "text/x-python",
   "name": "python",
   "nbconvert_exporter": "python",
   "pygments_lexer": "ipython3",
   "version": "3.10.4 | packaged by conda-forge | (main, Mar 30 2022, 08:38:02) [MSC v.1916 64 bit (AMD64)]"
  },
  "vscode": {
   "interpreter": {
    "hash": "014cb9d83026b9c50ea03e62b7bea9f0f1470472ea64b2b9be2b3cd5079cb509"
   }
  }
 },
 "nbformat": 4,
 "nbformat_minor": 1
}
